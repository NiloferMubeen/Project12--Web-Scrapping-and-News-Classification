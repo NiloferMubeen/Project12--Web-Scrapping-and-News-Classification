{
  "nbformat": 4,
  "nbformat_minor": 0,
  "metadata": {
    "colab": {
      "provenance": [],
      "collapsed_sections": [
        "W0WqmkKKFVy0",
        "xJWQGdziG-nq",
        "5bCPiHMoTcxb"
      ],
      "authorship_tag": "ABX9TyNBNaWCIaW47LxD66gUkamE",
      "include_colab_link": true
    },
    "kernelspec": {
      "name": "python3",
      "display_name": "Python 3"
    },
    "language_info": {
      "name": "python"
    }
  },
  "cells": [
    {
      "cell_type": "markdown",
      "metadata": {
        "id": "view-in-github",
        "colab_type": "text"
      },
      "source": [
        "<a href=\"https://colab.research.google.com/github/NiloferMubeen/Project12--Web-Scrapping-and-News-Classification/blob/main/nlp_webscrapping.ipynb\" target=\"_parent\"><img src=\"https://colab.research.google.com/assets/colab-badge.svg\" alt=\"Open In Colab\"/></a>"
      ]
    },
    {
      "cell_type": "code",
      "source": [
        "from bs4 import BeautifulSoup as soup\n",
        "import requests"
      ],
      "metadata": {
        "id": "zeaMRrErfWaw"
      },
      "execution_count": null,
      "outputs": []
    },
    {
      "cell_type": "markdown",
      "source": [
        "## **Parenting**"
      ],
      "metadata": {
        "id": "W0WqmkKKFVy0"
      }
    },
    {
      "cell_type": "code",
      "source": [
        "html = requests.get('https://indianexpress.com/parenting/page/9/')"
      ],
      "metadata": {
        "id": "HQNCKZslfkIh"
      },
      "execution_count": null,
      "outputs": []
    },
    {
      "cell_type": "code",
      "source": [
        "bsobj = soup(html.content,'lxml')\n"
      ],
      "metadata": {
        "id": "S7fG2UaUftHd"
      },
      "execution_count": null,
      "outputs": []
    },
    {
      "cell_type": "code",
      "source": [
        "check = []\n",
        "for news in bsobj.findAll(\"h2\"):\n",
        "  check.append(news.text)"
      ],
      "metadata": {
        "id": "QALdIKJglocr"
      },
      "execution_count": null,
      "outputs": []
    },
    {
      "cell_type": "code",
      "source": [
        "len(check)"
      ],
      "metadata": {
        "colab": {
          "base_uri": "https://localhost:8080/"
        },
        "id": "21BydpOXltnJ",
        "outputId": "a426ebc2-ed36-4eed-9cb9-6974338f0764"
      },
      "execution_count": null,
      "outputs": [
        {
          "output_type": "execute_result",
          "data": {
            "text/plain": [
              "25"
            ]
          },
          "metadata": {},
          "execution_count": 883
        }
      ]
    },
    {
      "cell_type": "code",
      "source": [
        "title.extend(check)"
      ],
      "metadata": {
        "id": "ngdPDzE2mT5h"
      },
      "execution_count": null,
      "outputs": []
    },
    {
      "cell_type": "code",
      "source": [
        "title = []\n",
        "for news in bsobj.findAll(\"h2\"):\n",
        "  title.append(news.text)\n"
      ],
      "metadata": {
        "id": "szDLOr2G4JSM"
      },
      "execution_count": null,
      "outputs": []
    },
    {
      "cell_type": "code",
      "source": [
        "len(title)"
      ],
      "metadata": {
        "colab": {
          "base_uri": "https://localhost:8080/"
        },
        "id": "H7eHRoMIB3Ch",
        "outputId": "9802ab13-1b49-4ea6-9751-9288d10721c0"
      },
      "execution_count": null,
      "outputs": [
        {
          "output_type": "execute_result",
          "data": {
            "text/plain": [
              "225"
            ]
          },
          "metadata": {},
          "execution_count": 892
        }
      ]
    },
    {
      "cell_type": "code",
      "source": [
        "try:\n",
        "  links = []\n",
        "  for news in bsobj.findAll(\"h2\",{'class':'title'}):\n",
        "   links.append(news.a['href'])\n",
        "except:\n",
        "  pass\n"
      ],
      "metadata": {
        "id": "xGCfKUvmf4dq"
      },
      "execution_count": null,
      "outputs": []
    },
    {
      "cell_type": "code",
      "source": [
        "len(links)"
      ],
      "metadata": {
        "colab": {
          "base_uri": "https://localhost:8080/"
        },
        "id": "cY4OaUD3EeaJ",
        "outputId": "c4716b36-dcbc-4274-fca7-97ac8bfdd1cf"
      },
      "execution_count": null,
      "outputs": [
        {
          "output_type": "execute_result",
          "data": {
            "text/plain": [
              "25"
            ]
          },
          "metadata": {},
          "execution_count": 885
        }
      ]
    },
    {
      "cell_type": "code",
      "source": [
        "check1 = []\n",
        "for link in links:\n",
        "  page = requests.get(link)\n",
        "  bs = soup(page.content)\n",
        "  for news in bs.findAll('div',{'class':'story_details'}):\n",
        "    check1.append(news.text.strip())"
      ],
      "metadata": {
        "id": "mMlcUNugl4Jq"
      },
      "execution_count": null,
      "outputs": []
    },
    {
      "cell_type": "code",
      "source": [
        "len(check1)"
      ],
      "metadata": {
        "colab": {
          "base_uri": "https://localhost:8080/"
        },
        "id": "gWv0GowEl-Xh",
        "outputId": "ba8b1063-72b8-4942-caac-c7d77b81774c"
      },
      "execution_count": null,
      "outputs": [
        {
          "output_type": "execute_result",
          "data": {
            "text/plain": [
              "25"
            ]
          },
          "metadata": {},
          "execution_count": 888
        }
      ]
    },
    {
      "cell_type": "code",
      "source": [
        "content.extend(check1)"
      ],
      "metadata": {
        "id": "XPh9tmmLmP1Y"
      },
      "execution_count": null,
      "outputs": []
    },
    {
      "cell_type": "code",
      "source": [
        "content = []\n",
        "for link in links:\n",
        "  page = requests.get(link)\n",
        "  bs = soup(page.content)\n",
        "  for news in bs.findAll('div',{'class':'story_details'}):\n",
        "    content.append(news.text.strip())"
      ],
      "metadata": {
        "id": "ti5l4h4S7nQh"
      },
      "execution_count": null,
      "outputs": []
    },
    {
      "cell_type": "code",
      "source": [
        "len(content)"
      ],
      "metadata": {
        "colab": {
          "base_uri": "https://localhost:8080/"
        },
        "id": "Gu9a9UPCEP8L",
        "outputId": "fde3903e-b853-4efc-85e9-ed2aa0374b10"
      },
      "execution_count": null,
      "outputs": [
        {
          "output_type": "execute_result",
          "data": {
            "text/plain": [
              "225"
            ]
          },
          "metadata": {},
          "execution_count": 890
        }
      ]
    },
    {
      "cell_type": "code",
      "source": [
        "import pandas as pd\n",
        "my_dic1 = {'title':title,'content':content}\n",
        "df = pd.DataFrame(my_dic1)\n",
        "df['label'] = 'parenting'"
      ],
      "metadata": {
        "id": "qviZ0KS2AaJM"
      },
      "execution_count": null,
      "outputs": []
    },
    {
      "cell_type": "code",
      "source": [
        "df"
      ],
      "metadata": {
        "colab": {
          "base_uri": "https://localhost:8080/",
          "height": 423
        },
        "id": "ZgTtGFsbpqYf",
        "outputId": "a1d30639-89ca-445c-e3fd-41e95b22ef69"
      },
      "execution_count": null,
      "outputs": [
        {
          "output_type": "execute_result",
          "data": {
            "text/plain": [
              "                                                 title  \\\n",
              "0    Myths and facts about wheezing in children und...   \n",
              "1          A guide to supporting teens through anxiety   \n",
              "2    How you can help your teen tackle Board examin...   \n",
              "3    How to detect if your teen has Borderline Pers...   \n",
              "4    Here’s Everything You Need to Know About Prega...   \n",
              "..                                                 ...   \n",
              "220  How to tell your child (and at what age) they ...   \n",
              "221  A science teacher explains: Is water a good co...   \n",
              "222  Take Time: How to recognise social anxiety in ...   \n",
              "223  8 ways to stay mentally strong through 2023Pre...   \n",
              "224  Foster children can easily lose their first la...   \n",
              "\n",
              "                                               content      label  \n",
              "0    Wheezing is a widespread problem in children u...  parenting  \n",
              "1    These days, anxiety has become a part of our d...  parenting  \n",
              "2    The board season is here! Stress is at an all-...  parenting  \n",
              "3    Being a teenager is difficult. Teens go throug...  parenting  \n",
              "4    Stomach pain during pregnancy can happen for v...  parenting  \n",
              "..                                                 ...        ...  \n",
              "220  A child brings a lot of happiness and also res...  parenting  \n",
              "221  By Rachna Arora\\nWater is one of the most incr...  parenting  \n",
              "222  Social Anxiety Disorder (SAD) is a globally pr...  parenting  \n",
              "223  Even as you celebrate the festive season of we...  parenting  \n",
              "224  Imagine a ten-year-old girl who has been throu...  parenting  \n",
              "\n",
              "[225 rows x 3 columns]"
            ],
            "text/html": [
              "\n",
              "  <div id=\"df-28f8706b-3d49-4800-a404-30228e0b6620\" class=\"colab-df-container\">\n",
              "    <div>\n",
              "<style scoped>\n",
              "    .dataframe tbody tr th:only-of-type {\n",
              "        vertical-align: middle;\n",
              "    }\n",
              "\n",
              "    .dataframe tbody tr th {\n",
              "        vertical-align: top;\n",
              "    }\n",
              "\n",
              "    .dataframe thead th {\n",
              "        text-align: right;\n",
              "    }\n",
              "</style>\n",
              "<table border=\"1\" class=\"dataframe\">\n",
              "  <thead>\n",
              "    <tr style=\"text-align: right;\">\n",
              "      <th></th>\n",
              "      <th>title</th>\n",
              "      <th>content</th>\n",
              "      <th>label</th>\n",
              "    </tr>\n",
              "  </thead>\n",
              "  <tbody>\n",
              "    <tr>\n",
              "      <th>0</th>\n",
              "      <td>Myths and facts about wheezing in children und...</td>\n",
              "      <td>Wheezing is a widespread problem in children u...</td>\n",
              "      <td>parenting</td>\n",
              "    </tr>\n",
              "    <tr>\n",
              "      <th>1</th>\n",
              "      <td>A guide to supporting teens through anxiety</td>\n",
              "      <td>These days, anxiety has become a part of our d...</td>\n",
              "      <td>parenting</td>\n",
              "    </tr>\n",
              "    <tr>\n",
              "      <th>2</th>\n",
              "      <td>How you can help your teen tackle Board examin...</td>\n",
              "      <td>The board season is here! Stress is at an all-...</td>\n",
              "      <td>parenting</td>\n",
              "    </tr>\n",
              "    <tr>\n",
              "      <th>3</th>\n",
              "      <td>How to detect if your teen has Borderline Pers...</td>\n",
              "      <td>Being a teenager is difficult. Teens go throug...</td>\n",
              "      <td>parenting</td>\n",
              "    </tr>\n",
              "    <tr>\n",
              "      <th>4</th>\n",
              "      <td>Here’s Everything You Need to Know About Prega...</td>\n",
              "      <td>Stomach pain during pregnancy can happen for v...</td>\n",
              "      <td>parenting</td>\n",
              "    </tr>\n",
              "    <tr>\n",
              "      <th>...</th>\n",
              "      <td>...</td>\n",
              "      <td>...</td>\n",
              "      <td>...</td>\n",
              "    </tr>\n",
              "    <tr>\n",
              "      <th>220</th>\n",
              "      <td>How to tell your child (and at what age) they ...</td>\n",
              "      <td>A child brings a lot of happiness and also res...</td>\n",
              "      <td>parenting</td>\n",
              "    </tr>\n",
              "    <tr>\n",
              "      <th>221</th>\n",
              "      <td>A science teacher explains: Is water a good co...</td>\n",
              "      <td>By Rachna Arora\\nWater is one of the most incr...</td>\n",
              "      <td>parenting</td>\n",
              "    </tr>\n",
              "    <tr>\n",
              "      <th>222</th>\n",
              "      <td>Take Time: How to recognise social anxiety in ...</td>\n",
              "      <td>Social Anxiety Disorder (SAD) is a globally pr...</td>\n",
              "      <td>parenting</td>\n",
              "    </tr>\n",
              "    <tr>\n",
              "      <th>223</th>\n",
              "      <td>8 ways to stay mentally strong through 2023Pre...</td>\n",
              "      <td>Even as you celebrate the festive season of we...</td>\n",
              "      <td>parenting</td>\n",
              "    </tr>\n",
              "    <tr>\n",
              "      <th>224</th>\n",
              "      <td>Foster children can easily lose their first la...</td>\n",
              "      <td>Imagine a ten-year-old girl who has been throu...</td>\n",
              "      <td>parenting</td>\n",
              "    </tr>\n",
              "  </tbody>\n",
              "</table>\n",
              "<p>225 rows × 3 columns</p>\n",
              "</div>\n",
              "    <div class=\"colab-df-buttons\">\n",
              "\n",
              "  <div class=\"colab-df-container\">\n",
              "    <button class=\"colab-df-convert\" onclick=\"convertToInteractive('df-28f8706b-3d49-4800-a404-30228e0b6620')\"\n",
              "            title=\"Convert this dataframe to an interactive table.\"\n",
              "            style=\"display:none;\">\n",
              "\n",
              "  <svg xmlns=\"http://www.w3.org/2000/svg\" height=\"24px\" viewBox=\"0 -960 960 960\">\n",
              "    <path d=\"M120-120v-720h720v720H120Zm60-500h600v-160H180v160Zm220 220h160v-160H400v160Zm0 220h160v-160H400v160ZM180-400h160v-160H180v160Zm440 0h160v-160H620v160ZM180-180h160v-160H180v160Zm440 0h160v-160H620v160Z\"/>\n",
              "  </svg>\n",
              "    </button>\n",
              "\n",
              "  <style>\n",
              "    .colab-df-container {\n",
              "      display:flex;\n",
              "      gap: 12px;\n",
              "    }\n",
              "\n",
              "    .colab-df-convert {\n",
              "      background-color: #E8F0FE;\n",
              "      border: none;\n",
              "      border-radius: 50%;\n",
              "      cursor: pointer;\n",
              "      display: none;\n",
              "      fill: #1967D2;\n",
              "      height: 32px;\n",
              "      padding: 0 0 0 0;\n",
              "      width: 32px;\n",
              "    }\n",
              "\n",
              "    .colab-df-convert:hover {\n",
              "      background-color: #E2EBFA;\n",
              "      box-shadow: 0px 1px 2px rgba(60, 64, 67, 0.3), 0px 1px 3px 1px rgba(60, 64, 67, 0.15);\n",
              "      fill: #174EA6;\n",
              "    }\n",
              "\n",
              "    .colab-df-buttons div {\n",
              "      margin-bottom: 4px;\n",
              "    }\n",
              "\n",
              "    [theme=dark] .colab-df-convert {\n",
              "      background-color: #3B4455;\n",
              "      fill: #D2E3FC;\n",
              "    }\n",
              "\n",
              "    [theme=dark] .colab-df-convert:hover {\n",
              "      background-color: #434B5C;\n",
              "      box-shadow: 0px 1px 3px 1px rgba(0, 0, 0, 0.15);\n",
              "      filter: drop-shadow(0px 1px 2px rgba(0, 0, 0, 0.3));\n",
              "      fill: #FFFFFF;\n",
              "    }\n",
              "  </style>\n",
              "\n",
              "    <script>\n",
              "      const buttonEl =\n",
              "        document.querySelector('#df-28f8706b-3d49-4800-a404-30228e0b6620 button.colab-df-convert');\n",
              "      buttonEl.style.display =\n",
              "        google.colab.kernel.accessAllowed ? 'block' : 'none';\n",
              "\n",
              "      async function convertToInteractive(key) {\n",
              "        const element = document.querySelector('#df-28f8706b-3d49-4800-a404-30228e0b6620');\n",
              "        const dataTable =\n",
              "          await google.colab.kernel.invokeFunction('convertToInteractive',\n",
              "                                                    [key], {});\n",
              "        if (!dataTable) return;\n",
              "\n",
              "        const docLinkHtml = 'Like what you see? Visit the ' +\n",
              "          '<a target=\"_blank\" href=https://colab.research.google.com/notebooks/data_table.ipynb>data table notebook</a>'\n",
              "          + ' to learn more about interactive tables.';\n",
              "        element.innerHTML = '';\n",
              "        dataTable['output_type'] = 'display_data';\n",
              "        await google.colab.output.renderOutput(dataTable, element);\n",
              "        const docLink = document.createElement('div');\n",
              "        docLink.innerHTML = docLinkHtml;\n",
              "        element.appendChild(docLink);\n",
              "      }\n",
              "    </script>\n",
              "  </div>\n",
              "\n",
              "\n",
              "<div id=\"df-4e4ccce8-5ff2-4200-8b3e-c8115027f0d5\">\n",
              "  <button class=\"colab-df-quickchart\" onclick=\"quickchart('df-4e4ccce8-5ff2-4200-8b3e-c8115027f0d5')\"\n",
              "            title=\"Suggest charts\"\n",
              "            style=\"display:none;\">\n",
              "\n",
              "<svg xmlns=\"http://www.w3.org/2000/svg\" height=\"24px\"viewBox=\"0 0 24 24\"\n",
              "     width=\"24px\">\n",
              "    <g>\n",
              "        <path d=\"M19 3H5c-1.1 0-2 .9-2 2v14c0 1.1.9 2 2 2h14c1.1 0 2-.9 2-2V5c0-1.1-.9-2-2-2zM9 17H7v-7h2v7zm4 0h-2V7h2v10zm4 0h-2v-4h2v4z\"/>\n",
              "    </g>\n",
              "</svg>\n",
              "  </button>\n",
              "\n",
              "<style>\n",
              "  .colab-df-quickchart {\n",
              "      --bg-color: #E8F0FE;\n",
              "      --fill-color: #1967D2;\n",
              "      --hover-bg-color: #E2EBFA;\n",
              "      --hover-fill-color: #174EA6;\n",
              "      --disabled-fill-color: #AAA;\n",
              "      --disabled-bg-color: #DDD;\n",
              "  }\n",
              "\n",
              "  [theme=dark] .colab-df-quickchart {\n",
              "      --bg-color: #3B4455;\n",
              "      --fill-color: #D2E3FC;\n",
              "      --hover-bg-color: #434B5C;\n",
              "      --hover-fill-color: #FFFFFF;\n",
              "      --disabled-bg-color: #3B4455;\n",
              "      --disabled-fill-color: #666;\n",
              "  }\n",
              "\n",
              "  .colab-df-quickchart {\n",
              "    background-color: var(--bg-color);\n",
              "    border: none;\n",
              "    border-radius: 50%;\n",
              "    cursor: pointer;\n",
              "    display: none;\n",
              "    fill: var(--fill-color);\n",
              "    height: 32px;\n",
              "    padding: 0;\n",
              "    width: 32px;\n",
              "  }\n",
              "\n",
              "  .colab-df-quickchart:hover {\n",
              "    background-color: var(--hover-bg-color);\n",
              "    box-shadow: 0 1px 2px rgba(60, 64, 67, 0.3), 0 1px 3px 1px rgba(60, 64, 67, 0.15);\n",
              "    fill: var(--button-hover-fill-color);\n",
              "  }\n",
              "\n",
              "  .colab-df-quickchart-complete:disabled,\n",
              "  .colab-df-quickchart-complete:disabled:hover {\n",
              "    background-color: var(--disabled-bg-color);\n",
              "    fill: var(--disabled-fill-color);\n",
              "    box-shadow: none;\n",
              "  }\n",
              "\n",
              "  .colab-df-spinner {\n",
              "    border: 2px solid var(--fill-color);\n",
              "    border-color: transparent;\n",
              "    border-bottom-color: var(--fill-color);\n",
              "    animation:\n",
              "      spin 1s steps(1) infinite;\n",
              "  }\n",
              "\n",
              "  @keyframes spin {\n",
              "    0% {\n",
              "      border-color: transparent;\n",
              "      border-bottom-color: var(--fill-color);\n",
              "      border-left-color: var(--fill-color);\n",
              "    }\n",
              "    20% {\n",
              "      border-color: transparent;\n",
              "      border-left-color: var(--fill-color);\n",
              "      border-top-color: var(--fill-color);\n",
              "    }\n",
              "    30% {\n",
              "      border-color: transparent;\n",
              "      border-left-color: var(--fill-color);\n",
              "      border-top-color: var(--fill-color);\n",
              "      border-right-color: var(--fill-color);\n",
              "    }\n",
              "    40% {\n",
              "      border-color: transparent;\n",
              "      border-right-color: var(--fill-color);\n",
              "      border-top-color: var(--fill-color);\n",
              "    }\n",
              "    60% {\n",
              "      border-color: transparent;\n",
              "      border-right-color: var(--fill-color);\n",
              "    }\n",
              "    80% {\n",
              "      border-color: transparent;\n",
              "      border-right-color: var(--fill-color);\n",
              "      border-bottom-color: var(--fill-color);\n",
              "    }\n",
              "    90% {\n",
              "      border-color: transparent;\n",
              "      border-bottom-color: var(--fill-color);\n",
              "    }\n",
              "  }\n",
              "</style>\n",
              "\n",
              "  <script>\n",
              "    async function quickchart(key) {\n",
              "      const quickchartButtonEl =\n",
              "        document.querySelector('#' + key + ' button');\n",
              "      quickchartButtonEl.disabled = true;  // To prevent multiple clicks.\n",
              "      quickchartButtonEl.classList.add('colab-df-spinner');\n",
              "      try {\n",
              "        const charts = await google.colab.kernel.invokeFunction(\n",
              "            'suggestCharts', [key], {});\n",
              "      } catch (error) {\n",
              "        console.error('Error during call to suggestCharts:', error);\n",
              "      }\n",
              "      quickchartButtonEl.classList.remove('colab-df-spinner');\n",
              "      quickchartButtonEl.classList.add('colab-df-quickchart-complete');\n",
              "    }\n",
              "    (() => {\n",
              "      let quickchartButtonEl =\n",
              "        document.querySelector('#df-4e4ccce8-5ff2-4200-8b3e-c8115027f0d5 button');\n",
              "      quickchartButtonEl.style.display =\n",
              "        google.colab.kernel.accessAllowed ? 'block' : 'none';\n",
              "    })();\n",
              "  </script>\n",
              "</div>\n",
              "\n",
              "  <div id=\"id_e3f53217-5956-490d-b506-7c8c807b5fc3\">\n",
              "    <style>\n",
              "      .colab-df-generate {\n",
              "        background-color: #E8F0FE;\n",
              "        border: none;\n",
              "        border-radius: 50%;\n",
              "        cursor: pointer;\n",
              "        display: none;\n",
              "        fill: #1967D2;\n",
              "        height: 32px;\n",
              "        padding: 0 0 0 0;\n",
              "        width: 32px;\n",
              "      }\n",
              "\n",
              "      .colab-df-generate:hover {\n",
              "        background-color: #E2EBFA;\n",
              "        box-shadow: 0px 1px 2px rgba(60, 64, 67, 0.3), 0px 1px 3px 1px rgba(60, 64, 67, 0.15);\n",
              "        fill: #174EA6;\n",
              "      }\n",
              "\n",
              "      [theme=dark] .colab-df-generate {\n",
              "        background-color: #3B4455;\n",
              "        fill: #D2E3FC;\n",
              "      }\n",
              "\n",
              "      [theme=dark] .colab-df-generate:hover {\n",
              "        background-color: #434B5C;\n",
              "        box-shadow: 0px 1px 3px 1px rgba(0, 0, 0, 0.15);\n",
              "        filter: drop-shadow(0px 1px 2px rgba(0, 0, 0, 0.3));\n",
              "        fill: #FFFFFF;\n",
              "      }\n",
              "    </style>\n",
              "    <button class=\"colab-df-generate\" onclick=\"generateWithVariable('df')\"\n",
              "            title=\"Generate code using this dataframe.\"\n",
              "            style=\"display:none;\">\n",
              "\n",
              "  <svg xmlns=\"http://www.w3.org/2000/svg\" height=\"24px\"viewBox=\"0 0 24 24\"\n",
              "       width=\"24px\">\n",
              "    <path d=\"M7,19H8.4L18.45,9,17,7.55,7,17.6ZM5,21V16.75L18.45,3.32a2,2,0,0,1,2.83,0l1.4,1.43a1.91,1.91,0,0,1,.58,1.4,1.91,1.91,0,0,1-.58,1.4L9.25,21ZM18.45,9,17,7.55Zm-12,3A5.31,5.31,0,0,0,4.9,8.1,5.31,5.31,0,0,0,1,6.5,5.31,5.31,0,0,0,4.9,4.9,5.31,5.31,0,0,0,6.5,1,5.31,5.31,0,0,0,8.1,4.9,5.31,5.31,0,0,0,12,6.5,5.46,5.46,0,0,0,6.5,12Z\"/>\n",
              "  </svg>\n",
              "    </button>\n",
              "    <script>\n",
              "      (() => {\n",
              "      const buttonEl =\n",
              "        document.querySelector('#id_e3f53217-5956-490d-b506-7c8c807b5fc3 button.colab-df-generate');\n",
              "      buttonEl.style.display =\n",
              "        google.colab.kernel.accessAllowed ? 'block' : 'none';\n",
              "\n",
              "      buttonEl.onclick = () => {\n",
              "        google.colab.notebook.generateWithVariable('df');\n",
              "      }\n",
              "      })();\n",
              "    </script>\n",
              "  </div>\n",
              "\n",
              "    </div>\n",
              "  </div>\n"
            ],
            "application/vnd.google.colaboratory.intrinsic+json": {
              "type": "dataframe",
              "variable_name": "df",
              "summary": "{\n  \"name\": \"df\",\n  \"rows\": 225,\n  \"fields\": [\n    {\n      \"column\": \"title\",\n      \"properties\": {\n        \"dtype\": \"string\",\n        \"num_unique_values\": 225,\n        \"samples\": [\n          \"The digital dilemma: How screen time impacts kids\\u2019 nutrition\",\n          \"Water Birth: The natural way of birthingPremium Story\",\n          \"From authoritarian to permissive: Unraveling four major parenting stylesPremium Story\"\n        ],\n        \"semantic_type\": \"\",\n        \"description\": \"\"\n      }\n    },\n    {\n      \"column\": \"content\",\n      \"properties\": {\n        \"dtype\": \"string\",\n        \"num_unique_values\": 225,\n        \"samples\": [\n          \"Written by Manvi Lohia\\n\\n\\n\\n\\n\\n\\n\\n\\n\\n\\n\\n\\nIn a world where digital devices are nearly as common as toys, screens, and devices have taken over our lives to an extent that regulating screen time isn\\u2019t always possible. Concerns about the impact of screen time on the nutritional health of children cannot be overstated. As a Registered Dietitian, I strongly believe that there are both positive and negative effects of screen time, but the latter has always outweighed the former, which calls for parents to monitor their children\\u2019s unhealthy relationship with screens, as the ubiquity of screen time poses significant challenges to our kids\\u2019 eating habits and their nutritional well-being. Therefore, it is always advised that, while screens are a significant part of modern childhood, exercising caution regarding the influence of screen time is crucial for their growth and development.\\nScreen time and its impact on eating behaviors\\nResearch from the Indian Academy of Pediatrics reveals that a considerable proportion of toddlers are spending hours in front of the television daily, which can shape their eating habits persistently (Indian Academy of Pediatrics, 2020\\u20132021). There are numerous studies that have established a link between excessive screen time and obesity in children, identifying extended television viewing as a factor in childhood obesity. Food marketing through media is another significant factor connecting screen time with the consumption of unhealthy foods, leading to subsequent weight gain. Additional factors like reduced physical activity, the intake of calorie-dense snacks, and altered sleep patterns due to screen time contribute to this issue, influencing hormonal changes that regulate hunger and satiety.Advertisement\\nPhysiological and psychological considerations\\nFrom a physiological standpoint, screen time, as a form of sedentary behavior, is linked to lower energy expenditure. However, its impact on food intake and dietary quality is more complex. Screen time can lead to increased snacking, often on energy-dense, nutrient-poor foods. This habit and reduced physical activity can contribute to an energy imbalance and potential weight gain. Among children, excessive screen time is linked to a variety of health risks such as the early onset of hypertension, heart problems, hyperlipidemia, and other health risks, which have direct associations with sedentary screen time behavior as a result of lower physical activity and poor sleep quality.\\nPsychologically, screen time during meals distracts from mindful eating. This distraction can impair the ability of children to recognize satiety cues, leading to overeating or inadequate consumption of nutrient-rich foods. Furthermore, the content viewed on screens, such as advertisements for unhealthy foods, strongly influences food preferences and choices.\\nDiet quality and screen time\\n Research from the Indian Academy of Pediatrics reveals that a considerable proportion of toddlers are spending hours in front of the television daily, which can shape their eating habits persistently. (Source: Freepik)\\nIn exploring the relationship between diet quality and screen time, it\\u2019s essential to consider broader lifestyle patterns. The significance lies in examining cluster behaviors, including physical activity, fruit, and vegetable consumption, alongside screen time. This holistic view acknowledges that screen time is one part of a larger lifestyle pattern that can impact dietary quality. It implies that longer screen time correlates with unhealthier dietary habits and a less favorable lifestyle profile among the kids, even after adjusting for several covariates.\\nImplications for parenting and education\\nFor parents and educators, this information underscores the need for a balanced approach to screen time. Ensuring right nutrition for children is an art that parents should inculcate for their child\\u2019s overall health and wellbeing. Parents are encouraged to play an active role in managing their children\\u2019s screen time by setting clear limits on device usage. It is also advantageous to designate specific times free from digital devices fosters open discussions within the family. Mealtime, in particular, can be a valuable moment for family engagement. By promoting focused eating without the distraction of screens, parents can enhance the quality of these shared experiences.Advertisement\\nALSO READ | Ways to replace screen time for children\\nTo further enrich mealtimes, consider introducing theme nights or engaging meal kits that not only make dining more interactive for kids but also add an element of excitement to the family routine. It\\u2019s not just about restricting screen time but also about creating enjoyable alternatives that encourage meaningful connections. Lastly, take the time to inform your family about the numerous benefits associated with screen-free meals. Emphasize the positive impact on communication, mindfulness, and overall well-being, fostering a shared understanding of the importance of balancing technology use with other enriching activities.\\nUnderstanding the nuanced relationship between screen time and children\\u2019s nutrition is pivotal. The interplay between screen time and nutrition in children is a multifaceted issue that extends beyond simple cause-and-effect. As we navigate this digital age, it\\u2019s crucial to understand these complexities and implement strategies that promote healthy eating habits and balanced screen time usage. By doing so, we can support the overall health and well-being of our children, setting them up for a healthier relationship with food and technology.\\n(Manvi Lohia is a Registered Dietician, Head of Holistic Health, and International Business at Ekaanta)\",\n          \"On 6th March, BirthRight by Rainbow Hospitals did its first under water delivery at its hospital in B.G. Road, Bengaluru, under the supervision of Dr Shailaja, Consultant Obstetrician and Gynecologist.\\nA variety of birthing options are available today. Depending on the parent\\u2019s preference, mothers and baby\\u2019s health, the mother may choose to deliver in the hospital or a birth centre. Delivery process is so unpredictable, nobody can anticipate any complication accurately. So, if the Natural Birthing Unit is part of the Hospital with all facilities, the mother and baby will be safer and also it will boost up the mother\\u2019s confidence and morale.\\nIn this case, the mother was pregnant for the second time with previous vaginal conventional delivery. The baby\\u2019s weight was 3.33kg. She was submerged in water when she started having labor pain. Within 1\\u00bd hours she successfully delivered a baby boy under water with less pain. We did not cut the perineum, the baby came out on its own and came to the surface. Mother, herself supported. Baby cried as soon as it reached earth side.\\u00a0Mother\\u00a0fed\\u00a0the baby even before the placenta was separated. She had a small perineal tear, which was sutured under local anaesthesia on the labor cot. Blood loss was very minimal. The whole family including her first baby rejoiced at the birth.\\u00a0\\nWater births have become more popular over the last several decades. American College and Obstetricians and Gynecologists recognize certain benefits. Immersion in water may help shorten the duration of labor. Laboring in water also decreases her need for epidurals or other spinal pain relief. This reduces caesarean section rate by 50%. Also it has been shown to cause less urinary stress incontinence problems for mothers. Mothers will have higher birth satisfaction. The warmth of water and the weightlessness give mothers room to escape without disconnecting. They treasure the moment, the gentle start they give for their babies. They themselves bring their baby unto their chest from still water.\\nOne thing is important, mothers should be careful while choosing water births. Water births may not be recommended for women who have unfavourable factors for vaginal delivery. While rare, babies born in water may acquire infections. Other risks include trouble regulating baby\\u2019s body temperature, chance of umbilical cord damage, respiratory distress for baby, asphyxia and seizures. To avoid these\\u00a0we use a birth pool liner, sterilize tubs, continuously monitor water temperature, baby heart rate at regular intervals and progress labor. We play soothing music to keep mother calm. We should be well equipped and prepared for any unpredictable eventualities. Parents always have to communicate their desires to have a water birth with a healthcare provider to discuss their individual risks and birth plan.\\n Dr.SHAILAJA NConsultant \\u2013 Obstetrics & GynecologistBirthRight By Rainbow Hospital\\nDr.SHAILAJA N\\nMBBS Consultant \\u2013 Obstetrics & Gynecologist\\nMBBS, MS(OBG), DGO, DNB, MRCOG (UK) FICOG, FCLS, FMAS, PGDMLE\\nBirthRight by Rainbow Hospital\",\n          \"When it comes to parenting, there are no rules. But there are different parenting styles that can affect your relationship with your kids. It is vital to consistently reevaluate your parenting style to ensure that it\\u2019s fostering healthy growth and development.\\nTalking about the same, Dr Vishnu Priya Bhagirath, a counselling psychologist said, \\u201cParenting style is the overall approach, attitude, and patterns of behavior that parents exhibit in raising and nurturing their children. It includes the mix of strategies, beliefs and values that guide parenting. Parenting styles are influenced by cultural background, personal experiences and individual beliefs.\\u201d\\nSimilarly, Dr Foram Matalia, Psychologist, Bhatia Hospital, Mumbai said that these styles influence feelings of security, the personal meaning given to experiences, and the ability to develop and maintain intimacy with others.Advertisement\\nRecently, Dr Santosh Yadav, a paediatrician took to Instagram to share various parenting styles. \\u201cDid you know that your parenting style reflects on your child\\u2019s behaviour? If your child is stubborn, angry, loves everyone, listens to you or is a well-behaved child, it depends on your parenting style,\\u201d he said in the post.\\nTake a look.\\n\\n\\n\\u00a0\\n\\n\\n\\n\\n\\n\\n\\n\\n\\n\\nView this post on Instagram\\n\\n\\n\\n\\n\\n\\n\\n\\n\\n\\n\\n\\n\\n\\n\\n\\n\\n\\n\\n\\n\\n\\n\\u00a0\\nA post shared by Dr.Santosh Yadav [M.D] (@parentingtips_surat)\\u00a0\\n\\n\\nFurther, he added that there are 4 types of parenting styles. First is authoritative, in which you are very responsive, you listen to the child, you ask questions, and you activate the left brain. This is best.\\n\\u201cAuthoritative parent\\u00a0follow what is widely understood as the preferred approach. Such parents are more pragmatic and flexible. They set clear boundaries. but also encourage children\\u2019s independence within those limits. Discipline in such families may be more supportive than punitive, and as children get older, their independence increases. Children of authoritative parents may have more highly developed self-control and self-reliance,\\u201d noted Dr Matalia.\\nSecond is authoritarian, where you are the boss and you expect the child to do everything you say. This is not good.\\n\\u201cAn authoritarian parent\\u00a0seeks to maintain a high level of control over their children. They may set and adhere to a strict set of rules and are more likely to support and take part in corporal punishment such as spanking. Children of highly authoritarian parents may struggle socially and may be likely to become authoritarian parents themselves,\\u201d said Dr Matalia.Advertisement\\nThird is permissive in which you do whatever the child says. You listen to everything the child says. That is also not good.\\n It is vital to consistently reevaluate your parenting style to ensure that it\\u2019s fostering healthy growth and development. (Source: Freepik)\\n\\u201cIndulgent (or permissive) parents\\u00a0may be attentive and warm but may not set many rules for their children. They may prioritise being their child\\u2019s friend over being their parent. Research suggests that the children of permissive parents may show higher levels of creativity but may also feel entitled and be more interested in taking rather than giving in their own relationships,\\u201d shared Dr Matalia.\\nFourth is uninvolved or neglectful. This is very rare in India.\\n\\u201cNeglectful parents (also known as uninvolved or disengaged)\\u00a0take on a limited parenting role. They may not spend as much time as other parents in conversation, play, or other activities, and may not bother to set many house rules. Some children of neglectful parents may resist rules outside of the home and struggle with self-control,\\u201d explained Dr Matalia.\\nHow do parenting styles affect a child\\u2019s behaviour?Advertisement\\nFor children, parents are the \\u201call powerful\\u201d center of their universe. Parenting styles have a deep impact on a child\\u2019s behavior. They shape the child\\u2019s understanding of themselves, social relations, and the world around them. Children internalise parents\\u2019 negative opinion and incorporate it into their view of themselves.\\nExplaining this, Bhagirath said, \\u201cAn authoritative parenting style, characterised by warmth, clear expectations, and consistent discipline, tends to foster children who exhibit self-control, confidence, and a healthy level of independence. But permissive parenting styles, with minimal structure and few limits, can lead to children displaying impulsivity, difficulty following rules, and challenges with self-regulation. Authoritarian parenting, which emphasises strict rules and punishment, may result in children displaying lower self-esteem, rebellion, or even aggression. Neglectful parenting, where parental involvement and attention are lacking, can contribute to feelings of insecurity, emotional withdrawal, and behavioral problems.\\u201d\\nALSO READ | Are you an authoritative parent? Here\\u2019s why it is good for your child\\nAs for the best parenting approach, she said that there is no universally best parenting style. Effectiveness of a parenting style depends on various factors, including the child\\u2019s temperament, cultural context and individual needs. \\u201cHowever, an authoritative parenting style tends to promote positive outcomes. The main reason being that it allows a healthy balance between nurturing and setting clear expectations, fostering self-esteem, self-control and positive social skills,\\u201d the expert concluded.\\nFor all the latest Parenting News, download Indian Express App.\"\n        ],\n        \"semantic_type\": \"\",\n        \"description\": \"\"\n      }\n    },\n    {\n      \"column\": \"label\",\n      \"properties\": {\n        \"dtype\": \"category\",\n        \"num_unique_values\": 1,\n        \"samples\": [\n          \"parenting\"\n        ],\n        \"semantic_type\": \"\",\n        \"description\": \"\"\n      }\n    }\n  ]\n}"
            }
          },
          "metadata": {},
          "execution_count": 894
        }
      ]
    },
    {
      "cell_type": "markdown",
      "source": [
        "## **Politics**"
      ],
      "metadata": {
        "id": "xJWQGdziG-nq"
      }
    },
    {
      "cell_type": "code",
      "source": [
        "html = requests.get('https://indianexpress.com/section/political-pulse/page/9/')"
      ],
      "metadata": {
        "id": "rNveg6Y8G8ur"
      },
      "execution_count": null,
      "outputs": []
    },
    {
      "cell_type": "code",
      "source": [
        "bs = soup(html.content,'lxml')\n"
      ],
      "metadata": {
        "id": "EqYCkMJnH50S"
      },
      "execution_count": null,
      "outputs": []
    },
    {
      "cell_type": "code",
      "source": [
        "\n",
        "for news in bs.findAll(\"h2\"):\n",
        "    title.append(news.text)"
      ],
      "metadata": {
        "id": "GfIfKL1jSCVj"
      },
      "execution_count": null,
      "outputs": []
    },
    {
      "cell_type": "code",
      "source": [
        "len(title)"
      ],
      "metadata": {
        "colab": {
          "base_uri": "https://localhost:8080/"
        },
        "id": "rH-lrtZVIEM_",
        "outputId": "e6e14c2b-a32c-4e52-a3a7-e465f95fd6b6"
      },
      "execution_count": null,
      "outputs": [
        {
          "output_type": "execute_result",
          "data": {
            "text/plain": [
              "225"
            ]
          },
          "metadata": {},
          "execution_count": 421
        }
      ]
    },
    {
      "cell_type": "code",
      "source": [
        "try:\n",
        "  links = []\n",
        "  for news in bs.findAll(\"h2\",{'class':'title'}):\n",
        "          links.append(news.a['href'])\n",
        "except:\n",
        "  pass\n",
        "links"
      ],
      "metadata": {
        "colab": {
          "base_uri": "https://localhost:8080/"
        },
        "id": "9GStx_XoIKK9",
        "outputId": "a6830648-3017-45ce-e8e1-f8a1a8a8439f"
      },
      "execution_count": null,
      "outputs": [
        {
          "output_type": "execute_result",
          "data": {
            "text/plain": [
              "['https://indianexpress.com/article/political-pulse/hemant-soren-video-message-ed-arrest-political-conspiracy-9138317/',\n",
              " 'https://indianexpress.com/article/political-pulse/1991-places-of-worship-act-gyanvapi-mosque-case-9138210/',\n",
              " 'https://indianexpress.com/article/political-pulse/masih-as-bjp-messiah-meet-presiding-officer-at-centre-of-chandigarh-mayoral-tussle-9138062/',\n",
              " 'https://indianexpress.com/article/political-pulse/hanuman-flag-row-jds-behind-it-bjp-hopes-to-plant-feet-in-old-mysore-9138024/',\n",
              " 'https://indianexpress.com/article/political-pulse/budget-nirmala-sitharaman-modi-jharkhand-new-cm-9137917/',\n",
              " 'https://indianexpress.com/article/political-pulse/can-be-vinamra-not-laachar-says-congress-up-in-charge-in-message-to-sp-hints-at-options-9137680/',\n",
              " 'https://indianexpress.com/article/political-pulse/hemant-soren-arrest-succession-jmm-congress-9137904/',\n",
              " 'https://indianexpress.com/article/political-pulse/india-bloc-rattled-again-unsure-if-bjp-vendetta-has-echo-on-poll-street-9137788/',\n",
              " 'https://indianexpress.com/article/political-pulse/hemant-soren-arrest-jmm-central-agencies-scanner-since-2020-9137637/',\n",
              " 'https://indianexpress.com/article/political-pulse/nitish-rahul-tejashwi-rjd-jdu-india-9137465/',\n",
              " 'https://indianexpress.com/article/political-pulse/p-c-george-kerala-bjps-christian-merges-outfit-9137463/',\n",
              " 'https://indianexpress.com/article/political-pulse/ed-hemant-soren-kalpana-soren-jharkhand-9136935/',\n",
              " 'https://indianexpress.com/article/political-pulse/india-tie-up-chandigarh-mayor-post-8-invalid-votes-9136933/',\n",
              " 'https://indianexpress.com/article/political-pulse/mamata-banerjee-rahul-gandhi-yatra-congress-cpm-bjp-9136780/',\n",
              " 'https://indianexpress.com/article/political-pulse/decode-politics-tribals-naveen-patnaik-odisha-9136590/',\n",
              " 'https://indianexpress.com/article/political-pulse/telangana-cm-revanth-reddy-push-for-gaddar-statue-9136494/',\n",
              " 'https://indianexpress.com/article/political-pulse/bjp-leaders-rahul-yatra-assam-ne-9136211/',\n",
              " 'https://indianexpress.com/article/political-pulse/assam-youth-congress-angkita-dutta-rahul-gandhi-9136093/',\n",
              " 'https://indianexpress.com/article/political-pulse/hemant-soren-ed-questioning-chandigarh-mayoral-poll-dispute-9135886/',\n",
              " 'https://indianexpress.com/article/political-pulse/sp-blindsides-congress-with-second-surprise-within-days-names-16-ls-candidates-9135885/',\n",
              " 'https://indianexpress.com/article/political-pulse/babulal-marandi-cm-soren-officers-ed-cbi-9135506/',\n",
              " 'https://indianexpress.com/article/political-pulse/maratha-notification-obc-quota-rashtriya-obc-mahasangh-chief-9135270/',\n",
              " 'https://indianexpress.com/article/political-pulse/rahul-gandhi-nitish-kumar-bjp-caste-survey-9135244/',\n",
              " 'https://indianexpress.com/article/political-pulse/rajasthan-minister-hijab-ban-schools-kirodi-lal-meena-9135242/',\n",
              " 'https://indianexpress.com/article/political-pulse/chandigarh-mayor-win-bjp-india-alliance-9134740/']"
            ]
          },
          "metadata": {},
          "execution_count": 372
        }
      ]
    },
    {
      "cell_type": "code",
      "source": [
        "len(links)"
      ],
      "metadata": {
        "colab": {
          "base_uri": "https://localhost:8080/"
        },
        "id": "BWt0ZjXuJNfW",
        "outputId": "b1ddca9f-e07c-4d0d-e57d-6978fa179034"
      },
      "execution_count": null,
      "outputs": [
        {
          "output_type": "execute_result",
          "data": {
            "text/plain": [
              "25"
            ]
          },
          "metadata": {},
          "execution_count": 373
        }
      ]
    },
    {
      "cell_type": "code",
      "source": [
        "for link in links:\n",
        "  page = requests.get(link)\n",
        "  bs = soup(page.content)\n",
        "  for news in bs.findAll('div',{'class':'story_details'}):\n",
        "    content.append(news.text.strip())"
      ],
      "metadata": {
        "id": "prVco_mjSHs8"
      },
      "execution_count": null,
      "outputs": []
    },
    {
      "cell_type": "code",
      "source": [
        "len(content)"
      ],
      "metadata": {
        "colab": {
          "base_uri": "https://localhost:8080/"
        },
        "id": "WydMTJEtM-JD",
        "outputId": "0be2e096-83db-4842-f7c1-d076d98e88dd"
      },
      "execution_count": null,
      "outputs": [
        {
          "output_type": "execute_result",
          "data": {
            "text/plain": [
              "225"
            ]
          },
          "metadata": {},
          "execution_count": 422
        }
      ]
    },
    {
      "cell_type": "code",
      "source": [
        "my_dic2 = {'title':title,'content':content}\n",
        "p_df = pd.DataFrame(my_dic2)\n",
        "p_df['label']= 'politics'"
      ],
      "metadata": {
        "id": "mwTKfd28J4SL"
      },
      "execution_count": null,
      "outputs": []
    },
    {
      "cell_type": "code",
      "source": [
        "p_df"
      ],
      "metadata": {
        "colab": {
          "base_uri": "https://localhost:8080/",
          "height": 423
        },
        "id": "44PvAeQjKNWd",
        "outputId": "1a1b6457-7e4d-4466-daf9-1b5fcbb8161e"
      },
      "execution_count": null,
      "outputs": [
        {
          "output_type": "execute_result",
          "data": {
            "text/plain": [
              "                                                 title  \\\n",
              "0    Farmers’ protest: Loan waiver among demands, h...   \n",
              "1    Saleem Shervani interview: I don’t understand ...   \n",
              "2    Decode Politics: As farmer protests continue, ...   \n",
              "3    Today in Politics: PM Modi in Ahmedabad for Am...   \n",
              "4    Mayawati aloof, left to own devices, BSP MPs w...   \n",
              "..                                                 ...   \n",
              "220  BJP MLA who shot at Shinde Sena leader in a Th...   \n",
              "221  D K Suresh’s ‘separate country’ remark an echo...   \n",
              "222  Long arc of Advani journey: Ayodhya Yatra to B...   \n",
              "223  In Bharat Ratna for Advani, PM Modi pulls anot...   \n",
              "224  Ticket allocation a mess 5 years ago, why Cong...   \n",
              "\n",
              "                                               content     label  \n",
              "0    The demands of the farmers protesting at sever...  politics  \n",
              "1    Former Union minister and five-time MP Saleem ...  politics  \n",
              "2    The renewed farmers’ protest demanding a legal...  politics  \n",
              "3    Prime Minister Narendra Modi is going to atten...  politics  \n",
              "4    WITH THE Bahujan Samaj Party (BSP) not part of...  politics  \n",
              "..                                                 ...       ...  \n",
              "220  When late on Friday, the BJP’s Kalyan (East) M...  politics  \n",
              "221  When on February 1, the lone Congress Lok Sabh...  politics  \n",
              "222  The 96-year-old BJP stalwart and ex-deputy pri...  politics  \n",
              "223  Veteran BJP leader and former deputy prime Min...  politics  \n",
              "224  Struggling to remain relevant and regain its “...  politics  \n",
              "\n",
              "[225 rows x 3 columns]"
            ],
            "text/html": [
              "\n",
              "  <div id=\"df-de1af5b7-248a-45e1-8797-16faa33648cc\" class=\"colab-df-container\">\n",
              "    <div>\n",
              "<style scoped>\n",
              "    .dataframe tbody tr th:only-of-type {\n",
              "        vertical-align: middle;\n",
              "    }\n",
              "\n",
              "    .dataframe tbody tr th {\n",
              "        vertical-align: top;\n",
              "    }\n",
              "\n",
              "    .dataframe thead th {\n",
              "        text-align: right;\n",
              "    }\n",
              "</style>\n",
              "<table border=\"1\" class=\"dataframe\">\n",
              "  <thead>\n",
              "    <tr style=\"text-align: right;\">\n",
              "      <th></th>\n",
              "      <th>title</th>\n",
              "      <th>content</th>\n",
              "      <th>label</th>\n",
              "    </tr>\n",
              "  </thead>\n",
              "  <tbody>\n",
              "    <tr>\n",
              "      <th>0</th>\n",
              "      <td>Farmers’ protest: Loan waiver among demands, h...</td>\n",
              "      <td>The demands of the farmers protesting at sever...</td>\n",
              "      <td>politics</td>\n",
              "    </tr>\n",
              "    <tr>\n",
              "      <th>1</th>\n",
              "      <td>Saleem Shervani interview: I don’t understand ...</td>\n",
              "      <td>Former Union minister and five-time MP Saleem ...</td>\n",
              "      <td>politics</td>\n",
              "    </tr>\n",
              "    <tr>\n",
              "      <th>2</th>\n",
              "      <td>Decode Politics: As farmer protests continue, ...</td>\n",
              "      <td>The renewed farmers’ protest demanding a legal...</td>\n",
              "      <td>politics</td>\n",
              "    </tr>\n",
              "    <tr>\n",
              "      <th>3</th>\n",
              "      <td>Today in Politics: PM Modi in Ahmedabad for Am...</td>\n",
              "      <td>Prime Minister Narendra Modi is going to atten...</td>\n",
              "      <td>politics</td>\n",
              "    </tr>\n",
              "    <tr>\n",
              "      <th>4</th>\n",
              "      <td>Mayawati aloof, left to own devices, BSP MPs w...</td>\n",
              "      <td>WITH THE Bahujan Samaj Party (BSP) not part of...</td>\n",
              "      <td>politics</td>\n",
              "    </tr>\n",
              "    <tr>\n",
              "      <th>...</th>\n",
              "      <td>...</td>\n",
              "      <td>...</td>\n",
              "      <td>...</td>\n",
              "    </tr>\n",
              "    <tr>\n",
              "      <th>220</th>\n",
              "      <td>BJP MLA who shot at Shinde Sena leader in a Th...</td>\n",
              "      <td>When late on Friday, the BJP’s Kalyan (East) M...</td>\n",
              "      <td>politics</td>\n",
              "    </tr>\n",
              "    <tr>\n",
              "      <th>221</th>\n",
              "      <td>D K Suresh’s ‘separate country’ remark an echo...</td>\n",
              "      <td>When on February 1, the lone Congress Lok Sabh...</td>\n",
              "      <td>politics</td>\n",
              "    </tr>\n",
              "    <tr>\n",
              "      <th>222</th>\n",
              "      <td>Long arc of Advani journey: Ayodhya Yatra to B...</td>\n",
              "      <td>The 96-year-old BJP stalwart and ex-deputy pri...</td>\n",
              "      <td>politics</td>\n",
              "    </tr>\n",
              "    <tr>\n",
              "      <th>223</th>\n",
              "      <td>In Bharat Ratna for Advani, PM Modi pulls anot...</td>\n",
              "      <td>Veteran BJP leader and former deputy prime Min...</td>\n",
              "      <td>politics</td>\n",
              "    </tr>\n",
              "    <tr>\n",
              "      <th>224</th>\n",
              "      <td>Ticket allocation a mess 5 years ago, why Cong...</td>\n",
              "      <td>Struggling to remain relevant and regain its “...</td>\n",
              "      <td>politics</td>\n",
              "    </tr>\n",
              "  </tbody>\n",
              "</table>\n",
              "<p>225 rows × 3 columns</p>\n",
              "</div>\n",
              "    <div class=\"colab-df-buttons\">\n",
              "\n",
              "  <div class=\"colab-df-container\">\n",
              "    <button class=\"colab-df-convert\" onclick=\"convertToInteractive('df-de1af5b7-248a-45e1-8797-16faa33648cc')\"\n",
              "            title=\"Convert this dataframe to an interactive table.\"\n",
              "            style=\"display:none;\">\n",
              "\n",
              "  <svg xmlns=\"http://www.w3.org/2000/svg\" height=\"24px\" viewBox=\"0 -960 960 960\">\n",
              "    <path d=\"M120-120v-720h720v720H120Zm60-500h600v-160H180v160Zm220 220h160v-160H400v160Zm0 220h160v-160H400v160ZM180-400h160v-160H180v160Zm440 0h160v-160H620v160ZM180-180h160v-160H180v160Zm440 0h160v-160H620v160Z\"/>\n",
              "  </svg>\n",
              "    </button>\n",
              "\n",
              "  <style>\n",
              "    .colab-df-container {\n",
              "      display:flex;\n",
              "      gap: 12px;\n",
              "    }\n",
              "\n",
              "    .colab-df-convert {\n",
              "      background-color: #E8F0FE;\n",
              "      border: none;\n",
              "      border-radius: 50%;\n",
              "      cursor: pointer;\n",
              "      display: none;\n",
              "      fill: #1967D2;\n",
              "      height: 32px;\n",
              "      padding: 0 0 0 0;\n",
              "      width: 32px;\n",
              "    }\n",
              "\n",
              "    .colab-df-convert:hover {\n",
              "      background-color: #E2EBFA;\n",
              "      box-shadow: 0px 1px 2px rgba(60, 64, 67, 0.3), 0px 1px 3px 1px rgba(60, 64, 67, 0.15);\n",
              "      fill: #174EA6;\n",
              "    }\n",
              "\n",
              "    .colab-df-buttons div {\n",
              "      margin-bottom: 4px;\n",
              "    }\n",
              "\n",
              "    [theme=dark] .colab-df-convert {\n",
              "      background-color: #3B4455;\n",
              "      fill: #D2E3FC;\n",
              "    }\n",
              "\n",
              "    [theme=dark] .colab-df-convert:hover {\n",
              "      background-color: #434B5C;\n",
              "      box-shadow: 0px 1px 3px 1px rgba(0, 0, 0, 0.15);\n",
              "      filter: drop-shadow(0px 1px 2px rgba(0, 0, 0, 0.3));\n",
              "      fill: #FFFFFF;\n",
              "    }\n",
              "  </style>\n",
              "\n",
              "    <script>\n",
              "      const buttonEl =\n",
              "        document.querySelector('#df-de1af5b7-248a-45e1-8797-16faa33648cc button.colab-df-convert');\n",
              "      buttonEl.style.display =\n",
              "        google.colab.kernel.accessAllowed ? 'block' : 'none';\n",
              "\n",
              "      async function convertToInteractive(key) {\n",
              "        const element = document.querySelector('#df-de1af5b7-248a-45e1-8797-16faa33648cc');\n",
              "        const dataTable =\n",
              "          await google.colab.kernel.invokeFunction('convertToInteractive',\n",
              "                                                    [key], {});\n",
              "        if (!dataTable) return;\n",
              "\n",
              "        const docLinkHtml = 'Like what you see? Visit the ' +\n",
              "          '<a target=\"_blank\" href=https://colab.research.google.com/notebooks/data_table.ipynb>data table notebook</a>'\n",
              "          + ' to learn more about interactive tables.';\n",
              "        element.innerHTML = '';\n",
              "        dataTable['output_type'] = 'display_data';\n",
              "        await google.colab.output.renderOutput(dataTable, element);\n",
              "        const docLink = document.createElement('div');\n",
              "        docLink.innerHTML = docLinkHtml;\n",
              "        element.appendChild(docLink);\n",
              "      }\n",
              "    </script>\n",
              "  </div>\n",
              "\n",
              "\n",
              "<div id=\"df-19f42439-1c92-4666-8951-c8802b760811\">\n",
              "  <button class=\"colab-df-quickchart\" onclick=\"quickchart('df-19f42439-1c92-4666-8951-c8802b760811')\"\n",
              "            title=\"Suggest charts\"\n",
              "            style=\"display:none;\">\n",
              "\n",
              "<svg xmlns=\"http://www.w3.org/2000/svg\" height=\"24px\"viewBox=\"0 0 24 24\"\n",
              "     width=\"24px\">\n",
              "    <g>\n",
              "        <path d=\"M19 3H5c-1.1 0-2 .9-2 2v14c0 1.1.9 2 2 2h14c1.1 0 2-.9 2-2V5c0-1.1-.9-2-2-2zM9 17H7v-7h2v7zm4 0h-2V7h2v10zm4 0h-2v-4h2v4z\"/>\n",
              "    </g>\n",
              "</svg>\n",
              "  </button>\n",
              "\n",
              "<style>\n",
              "  .colab-df-quickchart {\n",
              "      --bg-color: #E8F0FE;\n",
              "      --fill-color: #1967D2;\n",
              "      --hover-bg-color: #E2EBFA;\n",
              "      --hover-fill-color: #174EA6;\n",
              "      --disabled-fill-color: #AAA;\n",
              "      --disabled-bg-color: #DDD;\n",
              "  }\n",
              "\n",
              "  [theme=dark] .colab-df-quickchart {\n",
              "      --bg-color: #3B4455;\n",
              "      --fill-color: #D2E3FC;\n",
              "      --hover-bg-color: #434B5C;\n",
              "      --hover-fill-color: #FFFFFF;\n",
              "      --disabled-bg-color: #3B4455;\n",
              "      --disabled-fill-color: #666;\n",
              "  }\n",
              "\n",
              "  .colab-df-quickchart {\n",
              "    background-color: var(--bg-color);\n",
              "    border: none;\n",
              "    border-radius: 50%;\n",
              "    cursor: pointer;\n",
              "    display: none;\n",
              "    fill: var(--fill-color);\n",
              "    height: 32px;\n",
              "    padding: 0;\n",
              "    width: 32px;\n",
              "  }\n",
              "\n",
              "  .colab-df-quickchart:hover {\n",
              "    background-color: var(--hover-bg-color);\n",
              "    box-shadow: 0 1px 2px rgba(60, 64, 67, 0.3), 0 1px 3px 1px rgba(60, 64, 67, 0.15);\n",
              "    fill: var(--button-hover-fill-color);\n",
              "  }\n",
              "\n",
              "  .colab-df-quickchart-complete:disabled,\n",
              "  .colab-df-quickchart-complete:disabled:hover {\n",
              "    background-color: var(--disabled-bg-color);\n",
              "    fill: var(--disabled-fill-color);\n",
              "    box-shadow: none;\n",
              "  }\n",
              "\n",
              "  .colab-df-spinner {\n",
              "    border: 2px solid var(--fill-color);\n",
              "    border-color: transparent;\n",
              "    border-bottom-color: var(--fill-color);\n",
              "    animation:\n",
              "      spin 1s steps(1) infinite;\n",
              "  }\n",
              "\n",
              "  @keyframes spin {\n",
              "    0% {\n",
              "      border-color: transparent;\n",
              "      border-bottom-color: var(--fill-color);\n",
              "      border-left-color: var(--fill-color);\n",
              "    }\n",
              "    20% {\n",
              "      border-color: transparent;\n",
              "      border-left-color: var(--fill-color);\n",
              "      border-top-color: var(--fill-color);\n",
              "    }\n",
              "    30% {\n",
              "      border-color: transparent;\n",
              "      border-left-color: var(--fill-color);\n",
              "      border-top-color: var(--fill-color);\n",
              "      border-right-color: var(--fill-color);\n",
              "    }\n",
              "    40% {\n",
              "      border-color: transparent;\n",
              "      border-right-color: var(--fill-color);\n",
              "      border-top-color: var(--fill-color);\n",
              "    }\n",
              "    60% {\n",
              "      border-color: transparent;\n",
              "      border-right-color: var(--fill-color);\n",
              "    }\n",
              "    80% {\n",
              "      border-color: transparent;\n",
              "      border-right-color: var(--fill-color);\n",
              "      border-bottom-color: var(--fill-color);\n",
              "    }\n",
              "    90% {\n",
              "      border-color: transparent;\n",
              "      border-bottom-color: var(--fill-color);\n",
              "    }\n",
              "  }\n",
              "</style>\n",
              "\n",
              "  <script>\n",
              "    async function quickchart(key) {\n",
              "      const quickchartButtonEl =\n",
              "        document.querySelector('#' + key + ' button');\n",
              "      quickchartButtonEl.disabled = true;  // To prevent multiple clicks.\n",
              "      quickchartButtonEl.classList.add('colab-df-spinner');\n",
              "      try {\n",
              "        const charts = await google.colab.kernel.invokeFunction(\n",
              "            'suggestCharts', [key], {});\n",
              "      } catch (error) {\n",
              "        console.error('Error during call to suggestCharts:', error);\n",
              "      }\n",
              "      quickchartButtonEl.classList.remove('colab-df-spinner');\n",
              "      quickchartButtonEl.classList.add('colab-df-quickchart-complete');\n",
              "    }\n",
              "    (() => {\n",
              "      let quickchartButtonEl =\n",
              "        document.querySelector('#df-19f42439-1c92-4666-8951-c8802b760811 button');\n",
              "      quickchartButtonEl.style.display =\n",
              "        google.colab.kernel.accessAllowed ? 'block' : 'none';\n",
              "    })();\n",
              "  </script>\n",
              "</div>\n",
              "\n",
              "  <div id=\"id_d152ba69-61f0-4adf-8aa9-8014aa19d82f\">\n",
              "    <style>\n",
              "      .colab-df-generate {\n",
              "        background-color: #E8F0FE;\n",
              "        border: none;\n",
              "        border-radius: 50%;\n",
              "        cursor: pointer;\n",
              "        display: none;\n",
              "        fill: #1967D2;\n",
              "        height: 32px;\n",
              "        padding: 0 0 0 0;\n",
              "        width: 32px;\n",
              "      }\n",
              "\n",
              "      .colab-df-generate:hover {\n",
              "        background-color: #E2EBFA;\n",
              "        box-shadow: 0px 1px 2px rgba(60, 64, 67, 0.3), 0px 1px 3px 1px rgba(60, 64, 67, 0.15);\n",
              "        fill: #174EA6;\n",
              "      }\n",
              "\n",
              "      [theme=dark] .colab-df-generate {\n",
              "        background-color: #3B4455;\n",
              "        fill: #D2E3FC;\n",
              "      }\n",
              "\n",
              "      [theme=dark] .colab-df-generate:hover {\n",
              "        background-color: #434B5C;\n",
              "        box-shadow: 0px 1px 3px 1px rgba(0, 0, 0, 0.15);\n",
              "        filter: drop-shadow(0px 1px 2px rgba(0, 0, 0, 0.3));\n",
              "        fill: #FFFFFF;\n",
              "      }\n",
              "    </style>\n",
              "    <button class=\"colab-df-generate\" onclick=\"generateWithVariable('p_df')\"\n",
              "            title=\"Generate code using this dataframe.\"\n",
              "            style=\"display:none;\">\n",
              "\n",
              "  <svg xmlns=\"http://www.w3.org/2000/svg\" height=\"24px\"viewBox=\"0 0 24 24\"\n",
              "       width=\"24px\">\n",
              "    <path d=\"M7,19H8.4L18.45,9,17,7.55,7,17.6ZM5,21V16.75L18.45,3.32a2,2,0,0,1,2.83,0l1.4,1.43a1.91,1.91,0,0,1,.58,1.4,1.91,1.91,0,0,1-.58,1.4L9.25,21ZM18.45,9,17,7.55Zm-12,3A5.31,5.31,0,0,0,4.9,8.1,5.31,5.31,0,0,0,1,6.5,5.31,5.31,0,0,0,4.9,4.9,5.31,5.31,0,0,0,6.5,1,5.31,5.31,0,0,0,8.1,4.9,5.31,5.31,0,0,0,12,6.5,5.46,5.46,0,0,0,6.5,12Z\"/>\n",
              "  </svg>\n",
              "    </button>\n",
              "    <script>\n",
              "      (() => {\n",
              "      const buttonEl =\n",
              "        document.querySelector('#id_d152ba69-61f0-4adf-8aa9-8014aa19d82f button.colab-df-generate');\n",
              "      buttonEl.style.display =\n",
              "        google.colab.kernel.accessAllowed ? 'block' : 'none';\n",
              "\n",
              "      buttonEl.onclick = () => {\n",
              "        google.colab.notebook.generateWithVariable('p_df');\n",
              "      }\n",
              "      })();\n",
              "    </script>\n",
              "  </div>\n",
              "\n",
              "    </div>\n",
              "  </div>\n"
            ],
            "application/vnd.google.colaboratory.intrinsic+json": {
              "type": "dataframe",
              "variable_name": "p_df",
              "summary": "{\n  \"name\": \"p_df\",\n  \"rows\": 225,\n  \"fields\": [\n    {\n      \"column\": \"title\",\n      \"properties\": {\n        \"dtype\": \"string\",\n        \"num_unique_values\": 225,\n        \"samples\": [\n          \"Real estate baron Kupendra Reddy\\u2019s entry stirs Karnataka Rajya Sabha pot, Congress prepares for the heat\",\n          \"Karnataka, Kerala bring campaign against \\u2018financial atrocities\\u2019 of Centre to Delhi\",\n          \"Back with BJP, Nitish Kumar to face floor test today, oust Speaker\"\n        ],\n        \"semantic_type\": \"\",\n        \"description\": \"\"\n      }\n    },\n    {\n      \"column\": \"content\",\n      \"properties\": {\n        \"dtype\": \"string\",\n        \"num_unique_values\": 225,\n        \"samples\": [\n          \"HE MAY have slim prospects of victory, but the entry of multi-millionaire real estate baron D Kupendra Reddy in the Rajya Sabha poll fray in Karnataka means there are now five candidates for four seats, forcing an election on February 27. The 63-year-old, who declared Rs 1,200 crore assets in his election affidavit, has been fielded by the JD(S)-BJP combine, in what is seen as a bid to test the unity and resolve of the state\\u2019s ruling Congress.\\nAs numbers stand in the Karnataka Assembly, the Congress is assured of three seats, and the BJP of one.\\n\\u201cThe cat has been set among the pigeons. The move is to create confusion in Congress ranks, as there are many disgruntled individuals and divisions in the party that can be exploited,\\u201d a senior leader in the JD(S)-BJP alliance said.Advertisement\\nIronically, in the 2022 Rajya Sabha polls, it had been cross-voting by two JD(S) MLAs that had caused the surprise defeat of Reddy, then a JD(S) candidate. JD(S) leader H D Kumaraswamy is believed to be still smarting from the loss of his close aide, which happened when the Congress did not transfer its excess votes to Reddy, and instead fielded an extra candidate, Mansoor Ali Khan. The BJP\\u2019s dark horse Lahar Singh won the seat after two JDS MLAs cross-voted, and later joined the Congress.\\nEach Rajya Sabha candidate needs at least 45 votes in the 224-MLA Karnataka Assembly to win a Rajya Sabha seat from the state. The Congress with 135 MLAs has the exact number to elect its three candidates \\u2014 Ajay Maken, a central Congress leader seen as the choice of the high command; Nasir Hussain, a confidant of Mallikarjun Kharge; and party faithful G C Chandrashekhar. Party sources said they were also confident of the support of three Independents.\\nThe BJP has 66 MLAs, which means it can easily get its main candidate, party worker Narayansa Bhandage, elected, with votes to spare. Combined with the 19 JD(S) MLAs, this means enough votes to help Reddy win, provided he can win over the three Independents and get at least three Congress MLAs to cross-vote. This is where his money power could play a big role.\\nCongress chief and Deputy Chief Minister D K Shivakumar alleged this week that Kumaraswamy had approached a few Congress MLAs on behalf of the \\u201cfifth candidate of the JD(S)-BJP\\u201d. \\u201cWe know who he is calling, what he is saying and who he is threatening. Our MLAs have told us about the offers they have received. We are also aware of the BJP\\u2019s strategy,\\u201d Shivakumar said.Advertisement\\nReddy has also been associated with the Congress earlier, having contested a 2008 Assembly poll on its ticket. In recent years, though, he has always been seen on Kumaraswamy\\u2019s side, including at the alliance meetings with BJP leaders like Amit Shah and J P Nadda for the 2024 Lok Sabha polls.\\nA land and IT park developer, Reddy has connections across parties, and owns multiple businesses in Bengaluru, ranging from high-end car sales to real estate. He was the owner of the Mysore cricket team in the Karnataka Premier League, for which he bid under the name of his car sale business, Sirish Automobiles, in 2008, bagging it for Rs 3.25 crore.\\nThe long history of cross-voting in Karnataka Rajya Sabha polls includes the 2016 incident when eight of the JD(S)\\u2019s 40 MLAs voted for a Congress candidate to defeat the JD(S)\\u2019s wealthy candidate B M Farook. The MLAs were later suspended. Many are now Congress MLAs.\\nBJP sources said one of the reasons why its MP and Union Minister of State Rajeev Chandrashekhar, himself a wealthy businessman and one of Karnataka\\u2019s four retiring Rajya Sabha MPs, is not trying re-entry into the Upper House from the state, is the party\\u2019s lack of faith in the JD(S). Chandrashekhar is tipped to contest the Lok Sabha polls instead.Advertisement\\nA Congress leader alluded to the JD(S) history of cross-voting to say: \\u201cOn February 27, many of its MLAs will do cross-voting. It is the JD(S) that will be in trouble again, not the Congress.\\nCongress leaders added that CM Siddaramaiah and Shivakumar, who are known to have differences, had put these aside to ensure a united front for the polls.\",\n          \"The Opposition-ruled states of Karnataka and Kerala are bringing their protest against the Centre\\u2019s alleged biased fiscal policies to the national capital, with Tamil Nadu lending its voice of support.\\nOn Wednesday, the entire Karnataka ministry led by Chief Minister Siddaramaiah, plus all the state\\u2019s Congress MLAs and MLCs, will be staging a sit-in at Jantar Mantar, to be followed a day later by Kerala CM Pinarayi Vijayan and his ministers. The ruling DMK in Tamil Nadu has said it will join the protests.\\nSiddaramaiah called his government\\u2019s \\u2018Chalo Delhi\\u2019 protest as the first-ever by Karnataka against the fiscal policies of the Centre. In front-page ads splashed across newspapers in Karnataka on Tuesday, the Congress government said the protest was against \\u201cthe financial atrocities committed by the Central government on Kannadigas and Karnataka\\u201d. The Congress announced a simultaneous social media campaign, with the hashtag \\u2018My Tax My Right\\u2019.Advertisement\\nThe CM also penned letters to all MPs from the state, including Union ministers Nirmala Sitharaman and Pralhad Joshi, and JD(S) supremo H D Deve Gowda, asking them to extend support to the state\\u2019s cause. Deputy CM D K Shivakumar said the protest was \\u201ca non-partisan struggle for the benefit of Kannadigas and Karnataka\\u201d.\\nIn a briefing Monday, Siddaramaiah put the \\u201closses\\u201d suffered by the state exchequer due to factors such as reduction of Karnataka\\u2019s share in the divisible pool of taxes and \\u201cfaulty implementation of GST\\u201d at around Rs 1.87 lakh crore. The CM also claimed that despite the Union Budget\\u2019s size doubling between 2016-17 and 2022-23, there had been no marked increase in grants allocated to Karnataka.\\nThe Kerala government has said its Thursday protest is meant to highlight \\u201chow the BJP-led government is neglecting the state by denying its due share of revenue in violation of principles of cooperative federalism\\u201d. Led by the CM and including his Cabinet colleagues, the protest will include all LDF MPs and MLAs.\\nKerala has accused the Centre of \\u201cslashing the state\\u2019s borrowing limit\\u201d, an issue on which it has also moved the Supreme Court. Last month, the state Cabinet took out a month-long tour against the Union government\\u2019s \\u201canti-people\\u201d policies.Advertisement\\nAccording to the Kerala government, there has been a fall of Rs 57,400 crore in state\\u2019s receipts from the Centre, a shortfall of Rs 12,000 crore in GST compensation, another cut of Rs 8,400 crore in this year\\u2019s revenue deficit grant, and a fall in Kerala\\u2019s eligible borrowing limit to Rs 28,830 crore from the Rs 39,626 crore it expected.\\nCPI(M) leader and Kerala Finance Minister K N Balagopal Tuesday said: \\u201cIn a country where federal principles exist, such agitation is very rare. The Cabinet is going to Delhi to find remedy for the neglect towards the state.\\u201d\\nHe also questioned the Congress-led UDF for not joining the protest despite acknowledging the neglect towards the state, adding: \\u201cThe agitation of the Congress-led Karnataka Cabinet in Delhi will be an eyeopener for the Congress in Kerala. It ratifies our stand that the Centre has adopted a discriminatory stand towards Opposition-ruled states.\\u201d\\nIn a boost for the Pinarayi government, Tamil Nadu Chief Minister M K Stalin, whose government includes the Congress, extended unequivocal support to the Kerala government\\u2019s protest on Tuesday.Advertisement\\nIn his statement, Stalin appreciated the Kerala decision to go to the Supreme Court against the Centre, and said the situation had rapidly deteriorated in the last few years, with a clear consensus emerging among state governments over such control over their finances.\\nOffering his full support to the Kerala government, and saying Tamil Nadu \\u201clooked forward to collaborate and synchronise our efforts to address this crucial challenge\\u201d, he called for collective action by all states. \\u201cThe fundamental principle of fiscal federalism envisioned by the Constitution makers is under grave threat,\\u201d he said.\\nThe Tamil Nadu government has accused the Centre of exploiting its powers under Article 293 of the Constitution to severely limit the borrowing capacity of states. \\u201cThe prior consent from the Union government, mandated by this section, has been converted into a restrictive tool to limit deficit financing,\\u201d Stalin said.\\nHe asked why the Centre had pegged the state\\u2019s Gross State Domestic Product growth for calculating net borrowing ceiling at a mere 8%, despite Tamil Nadu achieving approximately 15% nominal growth in recent years, and also questioned the imposition of conditions for funding the losses of state-owned electricity distribution companies.Advertisement\\nHe also raised \\u201cthe deliberate delay\\u201d in approving infrastructure projects such as the Chennai Metro Rail Phase-II.\\nDMK spokesperson T K S Elangovan told The Indian Express that the party and Tamil Nadu government were giving their support to Kerala as well as Karnataka. \\u201cWe will be joining the protests in Delhi,\\u201d he said.\\nSpeaking in Parliament on Monday, Union Finance Minister Nirmala Sitharaman had strongly refuted claims that the Centre was withholding funds to non-BJP ruled states. The matter was raised by Adhir Ranjan Chowdhury, the Congress MP from West Bengal, whose government led by the TMC has staged several protests on the issue.\\nSitharaman said the devolution of taxes was based on the recommendations of the Finance Commission, and she had no discretionary powers. \\u201cThis apprehension that some states are being discriminated against is a politically-vitiated narrative.\\u201dAdvertisement\\nEarlier, the BJP had sought action against Congress Karnataka MP D K Suresh, for his comments after the interim budget was presented saying that the people of South India might have to demand \\u201ca separate country\\u201d given the \\u201cinjustice\\u201d over their share in taxes.\",\n          \"More than two weeks after he joined the National Democratic Alliance (NDA) and took oath as Bihar Chief Minister for a ninth time, Nitish Kumar will face a floor test in the Bihar Assembly on Monday.\\nAccording to the Assembly schedule, the Budget session will commence with Governor R V Arlekar\\u2019s address to both Houses of the legislature. This will be followed by the Assembly taking up the no-confidence motion against Speaker Awadh Bihari Choudhary. Choudhary, who is from the RJD, has refused to step down despite calls from the BJP and the JD(U) and may resign before the motion is introduced. The RJD has dared Nitish to prove his majority before the no-confidence motion against the Speaker is taken up.\\nBihar trust vote | Follow our live coverage\\nAs things stand now, the NDA claims to have the support of 128 MLAs, six more than the halfway mark of 122 in the 243-member Assembly. The BJP has 78 MLAs, the JD(U) 45, the Hindustani Awam Morcha (Secular) four, and one Independent. The Mahagathbandhan comprising the RJD, Congress, CPI(ML) Liberation, CPI and CPI(M) has 114 MLAs on its side. The Asaduddin Owaisi-led AIMIM has one MLA.Advertisement\\nOn Sunday, Kumar\\u2019s Janata Dal (United) faced some anxious moments as five of its MLAs skipped a meeting of the legislature party while alarm bells rang among Rashtriya Janata Dal\\u2019s (RJD) legislators \\u2014 who were camping at the house of former Deputy CM Tejashwi Yadav along with Left MLAs \\u2014 after one of them \\u201cwent missing\\u201d for a brief period. Meanwhile, the legislators of the BJP and the Congress, sequestered in Bodh Gaya and Hyderabad respectively, returned to Patna in the evening.\\nAlso Read | I shall now be with BJP for ever: Nitish Kumar days after return to NDA\\nState Parliamentary Affairs minister Vijay Kumar Chaudhary who convened a meeting of the JD(U) legislature party downplayed the absence of \\u201ctwo or three MLAs\\u201d, attributing it to \\u201cunavoidable circumstances about which they had given prior information\\u201d. He emphasised that the absentees would be present in the Assembly on Monday. \\u201cWe in the NDA have a total strength of 128 MLAs \\u2026 we are comfortably placed. All our MLAs will be present inside the House where a no-confidence motion against the Speaker will precede the trust vote,\\u201d he said.\\nAlso Read | Nitish Kumar: The perennial survivor, leader of all seasons\\nJD(U) national spokesperson Rajib Ranjan urged the media not to read too much into the MLAs missing the meeting. \\u201cThey could not attend Sunday\\u2019s meeting due to some personal engagements. We will prove our majority but will remove Speaker Choudhary before that. This will answer all doubts of the Opposition,\\u201d he said.\\nAlso Read | Split fear and more, why Nitish Kumar dumped BJP in 2022 \\nMeanwhile, late on Sunday evening, the Pataliputra Police visited Tejashwi Yadav\\u2019s official residence after former party MP Anand Mohan\\u2019s son Anshuman Anand complained that his younger brother and Sheohar MLA Chetan Anand had gone missing. Chetan, who eventually arrived at Yadav\\u2019s residence, said he had come there voluntarily and the missing person complaint did not stand.Advertisement\\nAn RJD insider alleged it was the JD(U)\\u2019s tactic to divert attention from their MLAs skipping the meeting. The RJD leader, however, did not rule out the possibility of Chetan rebelling, citing his father\\u2019s growing proximity to Nitish and the former MP\\u2019s desire to contest the Lok Sabha polls from Sheohar.\\nBJP spokesperson Santosh Pathak said the Opposition was \\u201cnervous\\u201d while the former CM Jitan Ram Manjhi reiterated that the four MLAs of his party HAM(S) would support the NDA.\\n\\u2014 With PTI inputs\"\n        ],\n        \"semantic_type\": \"\",\n        \"description\": \"\"\n      }\n    },\n    {\n      \"column\": \"label\",\n      \"properties\": {\n        \"dtype\": \"category\",\n        \"num_unique_values\": 1,\n        \"samples\": [\n          \"politics\"\n        ],\n        \"semantic_type\": \"\",\n        \"description\": \"\"\n      }\n    }\n  ]\n}"
            }
          },
          "metadata": {},
          "execution_count": 424
        }
      ]
    },
    {
      "cell_type": "markdown",
      "source": [
        "## **Lifestyle**"
      ],
      "metadata": {
        "id": "5bCPiHMoTcxb"
      }
    },
    {
      "cell_type": "code",
      "source": [
        "html = requests.get('https://indianexpress.com/section/lifestyle/page/9/')"
      ],
      "metadata": {
        "id": "5tPqyD-dTimX"
      },
      "execution_count": null,
      "outputs": []
    },
    {
      "cell_type": "code",
      "source": [
        "bs2 = soup(html.content,'lxml')\n"
      ],
      "metadata": {
        "id": "ikawUWfeTimY"
      },
      "execution_count": null,
      "outputs": []
    },
    {
      "cell_type": "code",
      "source": [
        "check = []\n",
        "for news in bs2.findAll(\"h2\"):\n",
        "    check.append(news.text)"
      ],
      "metadata": {
        "id": "22OovPFRV1Bi"
      },
      "execution_count": null,
      "outputs": []
    },
    {
      "cell_type": "code",
      "source": [
        "len(check)"
      ],
      "metadata": {
        "colab": {
          "base_uri": "https://localhost:8080/"
        },
        "id": "0aETdZgOV02b",
        "outputId": "e44b280f-793d-4eb5-e73a-60c97e72db48"
      },
      "execution_count": null,
      "outputs": [
        {
          "output_type": "execute_result",
          "data": {
            "text/plain": [
              "25"
            ]
          },
          "metadata": {},
          "execution_count": 562
        }
      ]
    },
    {
      "cell_type": "code",
      "source": [
        "title.extend(check)"
      ],
      "metadata": {
        "id": "yqyeBPbPZcup"
      },
      "execution_count": null,
      "outputs": []
    },
    {
      "cell_type": "code",
      "source": [
        "for news in bs2.findAll(\"h2\"):\n",
        "    title.append(news.text)"
      ],
      "metadata": {
        "id": "jjV7adQiTimm"
      },
      "execution_count": null,
      "outputs": []
    },
    {
      "cell_type": "code",
      "source": [
        "len(title)"
      ],
      "metadata": {
        "outputId": "0929ca6e-813a-4566-e4a4-16818663de02",
        "colab": {
          "base_uri": "https://localhost:8080/"
        },
        "id": "0iubKkbOTimm"
      },
      "execution_count": null,
      "outputs": [
        {
          "output_type": "execute_result",
          "data": {
            "text/plain": [
              "225"
            ]
          },
          "metadata": {},
          "execution_count": 570
        }
      ]
    },
    {
      "cell_type": "code",
      "source": [
        "try:\n",
        "  links = []\n",
        "  for news in bs2.findAll(\"h2\",{'class':'title'}):\n",
        "          links.append(news.a['href'])\n",
        "except:\n",
        "  pass\n"
      ],
      "metadata": {
        "id": "CEPJu8EjTimn"
      },
      "execution_count": null,
      "outputs": []
    },
    {
      "cell_type": "code",
      "source": [
        "len(links)"
      ],
      "metadata": {
        "outputId": "b5e170f0-91ea-4cd4-92c8-f1a1fabef16a",
        "colab": {
          "base_uri": "https://localhost:8080/"
        },
        "id": "5V7zj5glTimo"
      },
      "execution_count": null,
      "outputs": [
        {
          "output_type": "execute_result",
          "data": {
            "text/plain": [
              "25"
            ]
          },
          "metadata": {},
          "execution_count": 564
        }
      ]
    },
    {
      "cell_type": "code",
      "source": [
        "check1 =[]\n",
        "for link in links:\n",
        "  page = requests.get(link)\n",
        "  bs = soup(page.content)\n",
        "  for news in bs.findAll('div',{'class':'story_details'}):\n",
        "    check1.append(news.text.strip())"
      ],
      "metadata": {
        "id": "iKTNckAVWDCR"
      },
      "execution_count": null,
      "outputs": []
    },
    {
      "cell_type": "code",
      "source": [
        "len(check1)"
      ],
      "metadata": {
        "colab": {
          "base_uri": "https://localhost:8080/"
        },
        "id": "SEXE9JrUWCvT",
        "outputId": "afd92e9f-297f-406c-f3bf-e7f5d260dd0f"
      },
      "execution_count": null,
      "outputs": [
        {
          "output_type": "execute_result",
          "data": {
            "text/plain": [
              "25"
            ]
          },
          "metadata": {},
          "execution_count": 566
        }
      ]
    },
    {
      "cell_type": "code",
      "source": [
        "content.extend(check1)"
      ],
      "metadata": {
        "id": "gn4f1yd4ZEHu"
      },
      "execution_count": null,
      "outputs": []
    },
    {
      "cell_type": "code",
      "source": [
        "\n",
        "for link in links:\n",
        "  page = requests.get(link)\n",
        "  bs = soup(page.content)\n",
        "  for news in bs.findAll('div',{'class':'story_details'}):\n",
        "    content.append(news.text.strip())"
      ],
      "metadata": {
        "id": "rL_Zcop2Timo"
      },
      "execution_count": null,
      "outputs": []
    },
    {
      "cell_type": "code",
      "source": [
        "len(content)"
      ],
      "metadata": {
        "colab": {
          "base_uri": "https://localhost:8080/"
        },
        "id": "fBEnU4QfVdZb",
        "outputId": "5e7c8c4a-b064-4330-c89b-cf27278e2060"
      },
      "execution_count": null,
      "outputs": [
        {
          "output_type": "execute_result",
          "data": {
            "text/plain": [
              "225"
            ]
          },
          "metadata": {},
          "execution_count": 568
        }
      ]
    },
    {
      "cell_type": "code",
      "source": [
        "my_dic3 = {'title':title,'content':content}\n",
        "sp_df = pd.DataFrame(my_dic3)\n",
        "sp_df['label']= 'lifestyle'"
      ],
      "metadata": {
        "id": "7wNCsKWUTimq"
      },
      "execution_count": null,
      "outputs": []
    },
    {
      "cell_type": "code",
      "source": [
        "sp_df"
      ],
      "metadata": {
        "outputId": "bcb83d74-22ec-4dbb-e7ea-7b24fb7b28ff",
        "colab": {
          "base_uri": "https://localhost:8080/",
          "height": 423
        },
        "id": "bzYnH9_9Timq"
      },
      "execution_count": null,
      "outputs": [
        {
          "output_type": "execute_result",
          "data": {
            "text/plain": [
              "                                                 title  \\\n",
              "0    This is why oolong green tea deserves a spot i...   \n",
              "1    Know all about Rakul Preet’s bridal lehenga an...   \n",
              "2    Relationship expert suggests your attachment s...   \n",
              "3    Gen Z boys’ attitudes to feminism are more nua...   \n",
              "4     Navigate your 40s with these essential nutrients   \n",
              "..                                                 ...   \n",
              "220  Why take fibre first after 16 hours of intermi...   \n",
              "221  On your weight loss journey, watch out for the...   \n",
              "222  ‘Our culture enables matrimonial fraud’: Filmm...   \n",
              "223  Do zinc-rich foods provide relief from cold an...   \n",
              "224            5 superfoods for glowing skin in winter   \n",
              "\n",
              "                                               content      label  \n",
              "0    Looking for a delicious and health-boosting be...  lifestyle  \n",
              "1    Under the warm Goan sun, actors Rakul Preet Si...  lifestyle  \n",
              "2    The way you perceive and act in relationships ...  lifestyle  \n",
              "3    Young men are more likely than older men to th...  lifestyle  \n",
              "4    Reaching your 40s signifies a new chapter in l...  lifestyle  \n",
              "..                                                 ...        ...  \n",
              "220  After 16 hours of intermittent fasting, it can...  lifestyle  \n",
              "221  Embarking on your long-awaited weight loss jou...  lifestyle  \n",
              "222  For Tanuja Chandra, director of films like Dus...  lifestyle  \n",
              "223  As the weather changes, everyone is prone to c...  lifestyle  \n",
              "224  As winter unfurls its frosty embrace, our skin...  lifestyle  \n",
              "\n",
              "[225 rows x 3 columns]"
            ],
            "text/html": [
              "\n",
              "  <div id=\"df-b82761f2-0271-4f53-b948-386260a71e01\" class=\"colab-df-container\">\n",
              "    <div>\n",
              "<style scoped>\n",
              "    .dataframe tbody tr th:only-of-type {\n",
              "        vertical-align: middle;\n",
              "    }\n",
              "\n",
              "    .dataframe tbody tr th {\n",
              "        vertical-align: top;\n",
              "    }\n",
              "\n",
              "    .dataframe thead th {\n",
              "        text-align: right;\n",
              "    }\n",
              "</style>\n",
              "<table border=\"1\" class=\"dataframe\">\n",
              "  <thead>\n",
              "    <tr style=\"text-align: right;\">\n",
              "      <th></th>\n",
              "      <th>title</th>\n",
              "      <th>content</th>\n",
              "      <th>label</th>\n",
              "    </tr>\n",
              "  </thead>\n",
              "  <tbody>\n",
              "    <tr>\n",
              "      <th>0</th>\n",
              "      <td>This is why oolong green tea deserves a spot i...</td>\n",
              "      <td>Looking for a delicious and health-boosting be...</td>\n",
              "      <td>lifestyle</td>\n",
              "    </tr>\n",
              "    <tr>\n",
              "      <th>1</th>\n",
              "      <td>Know all about Rakul Preet’s bridal lehenga an...</td>\n",
              "      <td>Under the warm Goan sun, actors Rakul Preet Si...</td>\n",
              "      <td>lifestyle</td>\n",
              "    </tr>\n",
              "    <tr>\n",
              "      <th>2</th>\n",
              "      <td>Relationship expert suggests your attachment s...</td>\n",
              "      <td>The way you perceive and act in relationships ...</td>\n",
              "      <td>lifestyle</td>\n",
              "    </tr>\n",
              "    <tr>\n",
              "      <th>3</th>\n",
              "      <td>Gen Z boys’ attitudes to feminism are more nua...</td>\n",
              "      <td>Young men are more likely than older men to th...</td>\n",
              "      <td>lifestyle</td>\n",
              "    </tr>\n",
              "    <tr>\n",
              "      <th>4</th>\n",
              "      <td>Navigate your 40s with these essential nutrients</td>\n",
              "      <td>Reaching your 40s signifies a new chapter in l...</td>\n",
              "      <td>lifestyle</td>\n",
              "    </tr>\n",
              "    <tr>\n",
              "      <th>...</th>\n",
              "      <td>...</td>\n",
              "      <td>...</td>\n",
              "      <td>...</td>\n",
              "    </tr>\n",
              "    <tr>\n",
              "      <th>220</th>\n",
              "      <td>Why take fibre first after 16 hours of intermi...</td>\n",
              "      <td>After 16 hours of intermittent fasting, it can...</td>\n",
              "      <td>lifestyle</td>\n",
              "    </tr>\n",
              "    <tr>\n",
              "      <th>221</th>\n",
              "      <td>On your weight loss journey, watch out for the...</td>\n",
              "      <td>Embarking on your long-awaited weight loss jou...</td>\n",
              "      <td>lifestyle</td>\n",
              "    </tr>\n",
              "    <tr>\n",
              "      <th>222</th>\n",
              "      <td>‘Our culture enables matrimonial fraud’: Filmm...</td>\n",
              "      <td>For Tanuja Chandra, director of films like Dus...</td>\n",
              "      <td>lifestyle</td>\n",
              "    </tr>\n",
              "    <tr>\n",
              "      <th>223</th>\n",
              "      <td>Do zinc-rich foods provide relief from cold an...</td>\n",
              "      <td>As the weather changes, everyone is prone to c...</td>\n",
              "      <td>lifestyle</td>\n",
              "    </tr>\n",
              "    <tr>\n",
              "      <th>224</th>\n",
              "      <td>5 superfoods for glowing skin in winter</td>\n",
              "      <td>As winter unfurls its frosty embrace, our skin...</td>\n",
              "      <td>lifestyle</td>\n",
              "    </tr>\n",
              "  </tbody>\n",
              "</table>\n",
              "<p>225 rows × 3 columns</p>\n",
              "</div>\n",
              "    <div class=\"colab-df-buttons\">\n",
              "\n",
              "  <div class=\"colab-df-container\">\n",
              "    <button class=\"colab-df-convert\" onclick=\"convertToInteractive('df-b82761f2-0271-4f53-b948-386260a71e01')\"\n",
              "            title=\"Convert this dataframe to an interactive table.\"\n",
              "            style=\"display:none;\">\n",
              "\n",
              "  <svg xmlns=\"http://www.w3.org/2000/svg\" height=\"24px\" viewBox=\"0 -960 960 960\">\n",
              "    <path d=\"M120-120v-720h720v720H120Zm60-500h600v-160H180v160Zm220 220h160v-160H400v160Zm0 220h160v-160H400v160ZM180-400h160v-160H180v160Zm440 0h160v-160H620v160ZM180-180h160v-160H180v160Zm440 0h160v-160H620v160Z\"/>\n",
              "  </svg>\n",
              "    </button>\n",
              "\n",
              "  <style>\n",
              "    .colab-df-container {\n",
              "      display:flex;\n",
              "      gap: 12px;\n",
              "    }\n",
              "\n",
              "    .colab-df-convert {\n",
              "      background-color: #E8F0FE;\n",
              "      border: none;\n",
              "      border-radius: 50%;\n",
              "      cursor: pointer;\n",
              "      display: none;\n",
              "      fill: #1967D2;\n",
              "      height: 32px;\n",
              "      padding: 0 0 0 0;\n",
              "      width: 32px;\n",
              "    }\n",
              "\n",
              "    .colab-df-convert:hover {\n",
              "      background-color: #E2EBFA;\n",
              "      box-shadow: 0px 1px 2px rgba(60, 64, 67, 0.3), 0px 1px 3px 1px rgba(60, 64, 67, 0.15);\n",
              "      fill: #174EA6;\n",
              "    }\n",
              "\n",
              "    .colab-df-buttons div {\n",
              "      margin-bottom: 4px;\n",
              "    }\n",
              "\n",
              "    [theme=dark] .colab-df-convert {\n",
              "      background-color: #3B4455;\n",
              "      fill: #D2E3FC;\n",
              "    }\n",
              "\n",
              "    [theme=dark] .colab-df-convert:hover {\n",
              "      background-color: #434B5C;\n",
              "      box-shadow: 0px 1px 3px 1px rgba(0, 0, 0, 0.15);\n",
              "      filter: drop-shadow(0px 1px 2px rgba(0, 0, 0, 0.3));\n",
              "      fill: #FFFFFF;\n",
              "    }\n",
              "  </style>\n",
              "\n",
              "    <script>\n",
              "      const buttonEl =\n",
              "        document.querySelector('#df-b82761f2-0271-4f53-b948-386260a71e01 button.colab-df-convert');\n",
              "      buttonEl.style.display =\n",
              "        google.colab.kernel.accessAllowed ? 'block' : 'none';\n",
              "\n",
              "      async function convertToInteractive(key) {\n",
              "        const element = document.querySelector('#df-b82761f2-0271-4f53-b948-386260a71e01');\n",
              "        const dataTable =\n",
              "          await google.colab.kernel.invokeFunction('convertToInteractive',\n",
              "                                                    [key], {});\n",
              "        if (!dataTable) return;\n",
              "\n",
              "        const docLinkHtml = 'Like what you see? Visit the ' +\n",
              "          '<a target=\"_blank\" href=https://colab.research.google.com/notebooks/data_table.ipynb>data table notebook</a>'\n",
              "          + ' to learn more about interactive tables.';\n",
              "        element.innerHTML = '';\n",
              "        dataTable['output_type'] = 'display_data';\n",
              "        await google.colab.output.renderOutput(dataTable, element);\n",
              "        const docLink = document.createElement('div');\n",
              "        docLink.innerHTML = docLinkHtml;\n",
              "        element.appendChild(docLink);\n",
              "      }\n",
              "    </script>\n",
              "  </div>\n",
              "\n",
              "\n",
              "<div id=\"df-868ac080-c7f0-43f3-848f-4d11d12066d1\">\n",
              "  <button class=\"colab-df-quickchart\" onclick=\"quickchart('df-868ac080-c7f0-43f3-848f-4d11d12066d1')\"\n",
              "            title=\"Suggest charts\"\n",
              "            style=\"display:none;\">\n",
              "\n",
              "<svg xmlns=\"http://www.w3.org/2000/svg\" height=\"24px\"viewBox=\"0 0 24 24\"\n",
              "     width=\"24px\">\n",
              "    <g>\n",
              "        <path d=\"M19 3H5c-1.1 0-2 .9-2 2v14c0 1.1.9 2 2 2h14c1.1 0 2-.9 2-2V5c0-1.1-.9-2-2-2zM9 17H7v-7h2v7zm4 0h-2V7h2v10zm4 0h-2v-4h2v4z\"/>\n",
              "    </g>\n",
              "</svg>\n",
              "  </button>\n",
              "\n",
              "<style>\n",
              "  .colab-df-quickchart {\n",
              "      --bg-color: #E8F0FE;\n",
              "      --fill-color: #1967D2;\n",
              "      --hover-bg-color: #E2EBFA;\n",
              "      --hover-fill-color: #174EA6;\n",
              "      --disabled-fill-color: #AAA;\n",
              "      --disabled-bg-color: #DDD;\n",
              "  }\n",
              "\n",
              "  [theme=dark] .colab-df-quickchart {\n",
              "      --bg-color: #3B4455;\n",
              "      --fill-color: #D2E3FC;\n",
              "      --hover-bg-color: #434B5C;\n",
              "      --hover-fill-color: #FFFFFF;\n",
              "      --disabled-bg-color: #3B4455;\n",
              "      --disabled-fill-color: #666;\n",
              "  }\n",
              "\n",
              "  .colab-df-quickchart {\n",
              "    background-color: var(--bg-color);\n",
              "    border: none;\n",
              "    border-radius: 50%;\n",
              "    cursor: pointer;\n",
              "    display: none;\n",
              "    fill: var(--fill-color);\n",
              "    height: 32px;\n",
              "    padding: 0;\n",
              "    width: 32px;\n",
              "  }\n",
              "\n",
              "  .colab-df-quickchart:hover {\n",
              "    background-color: var(--hover-bg-color);\n",
              "    box-shadow: 0 1px 2px rgba(60, 64, 67, 0.3), 0 1px 3px 1px rgba(60, 64, 67, 0.15);\n",
              "    fill: var(--button-hover-fill-color);\n",
              "  }\n",
              "\n",
              "  .colab-df-quickchart-complete:disabled,\n",
              "  .colab-df-quickchart-complete:disabled:hover {\n",
              "    background-color: var(--disabled-bg-color);\n",
              "    fill: var(--disabled-fill-color);\n",
              "    box-shadow: none;\n",
              "  }\n",
              "\n",
              "  .colab-df-spinner {\n",
              "    border: 2px solid var(--fill-color);\n",
              "    border-color: transparent;\n",
              "    border-bottom-color: var(--fill-color);\n",
              "    animation:\n",
              "      spin 1s steps(1) infinite;\n",
              "  }\n",
              "\n",
              "  @keyframes spin {\n",
              "    0% {\n",
              "      border-color: transparent;\n",
              "      border-bottom-color: var(--fill-color);\n",
              "      border-left-color: var(--fill-color);\n",
              "    }\n",
              "    20% {\n",
              "      border-color: transparent;\n",
              "      border-left-color: var(--fill-color);\n",
              "      border-top-color: var(--fill-color);\n",
              "    }\n",
              "    30% {\n",
              "      border-color: transparent;\n",
              "      border-left-color: var(--fill-color);\n",
              "      border-top-color: var(--fill-color);\n",
              "      border-right-color: var(--fill-color);\n",
              "    }\n",
              "    40% {\n",
              "      border-color: transparent;\n",
              "      border-right-color: var(--fill-color);\n",
              "      border-top-color: var(--fill-color);\n",
              "    }\n",
              "    60% {\n",
              "      border-color: transparent;\n",
              "      border-right-color: var(--fill-color);\n",
              "    }\n",
              "    80% {\n",
              "      border-color: transparent;\n",
              "      border-right-color: var(--fill-color);\n",
              "      border-bottom-color: var(--fill-color);\n",
              "    }\n",
              "    90% {\n",
              "      border-color: transparent;\n",
              "      border-bottom-color: var(--fill-color);\n",
              "    }\n",
              "  }\n",
              "</style>\n",
              "\n",
              "  <script>\n",
              "    async function quickchart(key) {\n",
              "      const quickchartButtonEl =\n",
              "        document.querySelector('#' + key + ' button');\n",
              "      quickchartButtonEl.disabled = true;  // To prevent multiple clicks.\n",
              "      quickchartButtonEl.classList.add('colab-df-spinner');\n",
              "      try {\n",
              "        const charts = await google.colab.kernel.invokeFunction(\n",
              "            'suggestCharts', [key], {});\n",
              "      } catch (error) {\n",
              "        console.error('Error during call to suggestCharts:', error);\n",
              "      }\n",
              "      quickchartButtonEl.classList.remove('colab-df-spinner');\n",
              "      quickchartButtonEl.classList.add('colab-df-quickchart-complete');\n",
              "    }\n",
              "    (() => {\n",
              "      let quickchartButtonEl =\n",
              "        document.querySelector('#df-868ac080-c7f0-43f3-848f-4d11d12066d1 button');\n",
              "      quickchartButtonEl.style.display =\n",
              "        google.colab.kernel.accessAllowed ? 'block' : 'none';\n",
              "    })();\n",
              "  </script>\n",
              "</div>\n",
              "\n",
              "  <div id=\"id_fad5c415-aa4f-40ff-a10c-2db042cb0190\">\n",
              "    <style>\n",
              "      .colab-df-generate {\n",
              "        background-color: #E8F0FE;\n",
              "        border: none;\n",
              "        border-radius: 50%;\n",
              "        cursor: pointer;\n",
              "        display: none;\n",
              "        fill: #1967D2;\n",
              "        height: 32px;\n",
              "        padding: 0 0 0 0;\n",
              "        width: 32px;\n",
              "      }\n",
              "\n",
              "      .colab-df-generate:hover {\n",
              "        background-color: #E2EBFA;\n",
              "        box-shadow: 0px 1px 2px rgba(60, 64, 67, 0.3), 0px 1px 3px 1px rgba(60, 64, 67, 0.15);\n",
              "        fill: #174EA6;\n",
              "      }\n",
              "\n",
              "      [theme=dark] .colab-df-generate {\n",
              "        background-color: #3B4455;\n",
              "        fill: #D2E3FC;\n",
              "      }\n",
              "\n",
              "      [theme=dark] .colab-df-generate:hover {\n",
              "        background-color: #434B5C;\n",
              "        box-shadow: 0px 1px 3px 1px rgba(0, 0, 0, 0.15);\n",
              "        filter: drop-shadow(0px 1px 2px rgba(0, 0, 0, 0.3));\n",
              "        fill: #FFFFFF;\n",
              "      }\n",
              "    </style>\n",
              "    <button class=\"colab-df-generate\" onclick=\"generateWithVariable('sp_df')\"\n",
              "            title=\"Generate code using this dataframe.\"\n",
              "            style=\"display:none;\">\n",
              "\n",
              "  <svg xmlns=\"http://www.w3.org/2000/svg\" height=\"24px\"viewBox=\"0 0 24 24\"\n",
              "       width=\"24px\">\n",
              "    <path d=\"M7,19H8.4L18.45,9,17,7.55,7,17.6ZM5,21V16.75L18.45,3.32a2,2,0,0,1,2.83,0l1.4,1.43a1.91,1.91,0,0,1,.58,1.4,1.91,1.91,0,0,1-.58,1.4L9.25,21ZM18.45,9,17,7.55Zm-12,3A5.31,5.31,0,0,0,4.9,8.1,5.31,5.31,0,0,0,1,6.5,5.31,5.31,0,0,0,4.9,4.9,5.31,5.31,0,0,0,6.5,1,5.31,5.31,0,0,0,8.1,4.9,5.31,5.31,0,0,0,12,6.5,5.46,5.46,0,0,0,6.5,12Z\"/>\n",
              "  </svg>\n",
              "    </button>\n",
              "    <script>\n",
              "      (() => {\n",
              "      const buttonEl =\n",
              "        document.querySelector('#id_fad5c415-aa4f-40ff-a10c-2db042cb0190 button.colab-df-generate');\n",
              "      buttonEl.style.display =\n",
              "        google.colab.kernel.accessAllowed ? 'block' : 'none';\n",
              "\n",
              "      buttonEl.onclick = () => {\n",
              "        google.colab.notebook.generateWithVariable('sp_df');\n",
              "      }\n",
              "      })();\n",
              "    </script>\n",
              "  </div>\n",
              "\n",
              "    </div>\n",
              "  </div>\n"
            ],
            "application/vnd.google.colaboratory.intrinsic+json": {
              "type": "dataframe",
              "variable_name": "sp_df",
              "summary": "{\n  \"name\": \"sp_df\",\n  \"rows\": 225,\n  \"fields\": [\n    {\n      \"column\": \"title\",\n      \"properties\": {\n        \"dtype\": \"string\",\n        \"num_unique_values\": 225,\n        \"samples\": [\n          \"Ahead of wedding to Jackky Bhagnani, a look at the best of Rakul Preet Singh\\u2019s ethnic style\",\n          \"6 homemade beverages to lose belly fat\",\n          \"5 places to explore in Iran, the newest visa-free country for Indians\"\n        ],\n        \"semantic_type\": \"\",\n        \"description\": \"\"\n      }\n    },\n    {\n      \"column\": \"content\",\n      \"properties\": {\n        \"dtype\": \"string\",\n        \"num_unique_values\": 225,\n        \"samples\": [\n          \"Rakul Preet Singh and Jackky Bhagnani are all set to tie the knot in Goa today. While we eagerly await the official photographs from their wedding festivities, Rakul has already created buzz with her ethnic style, leaving fashion enthusiasts speculating about what she will don on her big day.\\nFrom gorgeous red saris to striking pastel lehengas, let\\u2019s delve into some of Rakul\\u2019s standout ethnic outfits before her much-anticipated wedding ensemble is unveiled.\\nRakul kicked off her pre-wedding celebrations in a vibrant green Sharara set from designer Seema Gujral. Adorned with intricate mirror work and paired with a matching dupatta, she accessorised with an emerald choker necklace, Kundan earrings, rings, bracelet, and a silver mini bag. Her glamourous makeup and center-parted wavy hair rounded off her Dhol night look.\\n\\n\\n\\u00a0\\n\\n\\n\\n\\n\\n\\n\\n\\n\\n\\nView this post on Instagram\\n\\n\\n\\n\\n\\n\\n\\n\\n\\n\\n\\n\\n\\n\\n\\n\\n\\n\\n\\n\\n\\n\\n\\u00a0\\nA post shared by Rakul Singh (@rakulpreet)\\u00a0\\n\\n\\nAnother memorable look was Rakul in a mesmerising red Sharara set, also from Seema Gujral. Opting for a strapless tunic with a peplum border instead of a Kurti, she exuded glamour and sophistication with intricate sequins, beads, and floral embroidery. A diamond choker necklace, minimal, pink-toned makeup, and open stress completed her ensemble.\\n\\n\\n\\u00a0\\n\\n\\n\\n\\n\\n\\n\\n\\n\\n\\nView this post on Instagram\\n\\n\\n\\n\\n\\n\\n\\n\\n\\n\\n\\n\\n\\n\\n\\n\\n\\n\\n\\n\\n\\n\\n\\u00a0\\nA post shared by Rakul Singh (@rakulpreet)\\u00a0\\n\\n\\nRakul also stunned in a cherry red lehenga and matching bralette-style blouse, perfect for a bride-to-be. The red detailing and exquisite beading added a dramatic flair, complemented by gold statement earrings, stacked bangles, and gold juttis. A sleek hairstyle and nude makeup provided the finishing touches.\\n\\n\\n\\u00a0\\n\\n\\n\\n\\n\\n\\n\\n\\n\\n\\nView this post on Instagram\\n\\n\\n\\n\\n\\n\\n\\n\\n\\n\\n\\n\\n\\n\\n\\n\\n\\n\\n\\n\\n\\n\\n\\u00a0\\nA post shared by Rakul Singh (@rakulpreet)\\u00a0\\n\\n\\nTransitioning to a pastel pink lehenga and bralette top adorned with crystal embroidery and floral motifs, Rakul showcased an ideal ensemble for a spring wedding. Her Monika Nidhi lehenga, paired with a matching net dupatta, was accented with gold earrings, a dainty bracelet, and multiple rings, completed with dewy makeup and a chic bun.\\n\\n\\n\\u00a0\\n\\n\\n\\n\\n\\n\\n\\n\\n\\n\\nView this post on Instagram\\n\\n\\n\\n\\n\\n\\n\\n\\n\\n\\n\\n\\n\\n\\n\\n\\n\\n\\n\\n\\n\\n\\n\\u00a0\\nA post shared by Rakul Singh (@rakulpreet)\\u00a0\\n\\n\\nRakul\\u2019s elegance shone in a Benarasi silk sari from Raw Mango, draped gracefully over a golden blouse. The classic red sari, adorned with intricate motifs, was complemented by statement earrings, subtle makeup, and a sleek bun.\\n\\n\\n\\u00a0\\n\\n\\n\\n\\n\\n\\n\\n\\n\\n\\nView this post on Instagram\\n\\n\\n\\n\\n\\n\\n\\n\\n\\n\\n\\n\\n\\n\\n\\n\\n\\n\\n\\n\\n\\n\\n\\u00a0\\nA post shared by Rakul Singh (@rakulpreet)\\u00a0\\n\\n\\nFor those seeking refined elegance, Rakul\\u2019s off-white Anarkali kurta and palazzo set offered intricate gold embroidery and paisley embellishments, complete with matching dupatta, juttis, jhumkas, and glossy makeup.\\n\\n\\n\\u00a0\\n\\n\\n\\n\\n\\n\\n\\n\\n\\n\\nView this post on Instagram\\n\\n\\n\\n\\n\\n\\n\\n\\n\\n\\n\\n\\n\\n\\n\\n\\n\\n\\n\\n\\n\\n\\n\\u00a0\\nA post shared by Rakul Singh (@rakulpreet)\\u00a0\\n\\n\\nLastly, Rakul\\u2019s Barbie pink sari from Ekaya Banaras, paired with a gold layered necklace and rings, offered a bold yet elegant choice. Her nude makeup and straight hairdo provided the perfect finishing touches.\\nALSO READ | From favourite food, to workout, and secret to her glow, Rakul Preet Singh bares it all\\n\\n\\n\\u00a0\\n\\n\\n\\n\\n\\n\\n\\n\\n\\n\\nView this post on Instagram\\n\\n\\n\\n\\n\\n\\n\\n\\n\\n\\n\\n\\n\\n\\n\\n\\n\\n\\n\\n\\n\\n\\n\\u00a0\\nA post shared by Rakul Singh (@rakulpreet)\\u00a0\\n\\n\\nSo, which of Rakul\\u2019s looks did you find the best?\",\n          \"While no drink can magically melt away belly fat, incorporating certain homemade beverages into a balanced diet and active lifestyle may support your overall weight loss goals. \\u201cHomemade drinks can be a supportive element in your quest to reduce belly fat, although they alone won\\u2019t guarantee results.,\\u201d said Dr Dilip Gude, senior consultant physician, Yashoda Hospitals, Hyderabad.\\nAccording to dietitian Shikha Kumari, six homemade drinks are often associated with health benefits and may contribute to fat loss.\\u00a0She took to Instagram to share a post on what they are:\\nGinger tea\\nContains compounds that may have anti-inflammatory and metabolism-boosting properties. \\u201cGinger tea, with its anti-inflammatory properties, might enhance calorie burning and aid in digestion, potentially reducing belly fat,\\u201d said Dr Gude.\\nAloe vera juiceAdvertisement\\nAloe vera may have digestive benefits, but moderation is key due to its potency, said Kumari.\\nCucumber mint water\\nHydrating and refreshing, cucumber and mint add flavour to water without added sugars. Dr Gude mentioned, \\u201cCucumber and mint-infused water provide a refreshing, low-calorie hydration option, promoting a feeling of fullness.\\u201d\\nApple Cider Vinegar (ACV) drink\\nDilute ACV with water and consume it before meals. According to Kumari, some studies suggest it may help reduce body fat. Dr Gude too agreed and shared, \\u201cApple cider vinegar (ACV), when diluted in water, is believed to reduce appetite and control calorie intake,\\u201d mentioned Dr Gude.\\nCinnamon tea\\nKumari mentioned that cinnamon may help regulate blood sugar levels, potentially reducing cravings.Advertisement\\n Is this tea good for weight loss?(Source: Getty Images/Thinkstock)\\nFennel seed infusion\\nFennel seeds may have mild diuretic properties and can be made into tea for digestive support.\\nAlso Read | For good gut health, you must avoid these six food items\\nDr Gude also mentioned that green tea, rich in antioxidants, has catechins that may boost metabolism, potentially aiding in fat loss over time. \\u201cLemon water, known for its low-calorie content and vitamin C, can support digestion and kickstart metabolism, contributing to a healthier stomach,\\u201d said Dr Gude.\\nDr Gude also stated that while these drinks can be beneficial, they should be part of a comprehensive approach that includes a balanced diet and regular exercise for effective belly fat reduction. \\u201cIt\\u2019s crucial to note that individual responses may vary, and consulting with a healthcare professional before making significant dietary changes is advisable for personalised guidance,\\u201d said Dr Gude.\\n\\n\\n\\u00a0\\n\\n\\n\\n\\n\\n\\n\\n\\n\\n\\nView this post on Instagram\\n\\n\\n\\n\\n\\n\\n\\n\\n\\n\\n\\n\\n\\n\\n\\n\\n\\n\\n\\n\\n\\n\\n\\u00a0\\nA post shared by Dt. Shikha Kumari (@dietitian_shikha_kumari)\",\n          \"Calling all wanderlust-stricken Indians! Dust off your passports and get ready to embark on an unforgettable adventure \\u2014 for Iran \\u2014 the land of ancient wonders and vibrant culture, has just opened its doors visa-free for Indian citizens.\\nFrom historical marvels to breathtaking landscapes, this diverse nation promises an experience unlike any other. So, pack your bags, and let\\u2019s delve into 5 captivating places and things you absolutely cannot miss:\\nImmerse yourself in the grandeur of Isfahan\\nNicknamed \\u2018half of the world\\u2019 for its grandeur, Isfahan boasts magnificent architectural marvels like the Naqsh-e Jahan Square, a UNESCO World Heritage Site adorned with palaces, mosques, and bazaars. Explore the intricate tilework of Imam Mosque, marvel at the towering arches of Sheikh Lotfollah Mosque, and wander through the bustling Grand Bazaar, a sensory overload of spices, carpets, and handicrafts.\\n\\n\\n\\u00a0\\n\\n\\n\\n\\n\\n\\n\\n\\n\\n\\nView this post on Instagram\\n\\n\\n\\n\\n\\n\\n\\n\\n\\n\\n\\n\\n\\n\\n\\n\\n\\n\\n\\n\\n\\n\\n\\u00a0\\nA post shared by #Tourism_IRAN \\u00ae HD pictures (@tourism_iran)\\u00a0\\n\\n\\nJourney through time in Persepolis\\nStep back into the heart of the Achaemenid Empire at Persepolis, an ancient city boasting colossal stone structures like the Gate of All Nations and the Apadana Palace. Imagine the grandeur of royal audiences and chariot processions as you walk amongst these remnants of a bygone era. Don\\u2019t miss the nearby Naqsh-e Rustam necropolis, where intricately carved tombs of Achaemenid kings stand sentinel.Advertisement\\nDiscover the serenity of Shiraz\\nKnown as the \\u201cCity of Poets and Nightingales,\\u201d Shiraz offers a blend of historical sites and vibrant culture. Visit the serene Eram Garden, a UNESCO World Heritage Site adorned with pools, fountains, and fragrant flowers. Delve into the mysteries of the pink-hued Nasir al-Mulk Mosque, famed for its kaleidoscopic stained glass windows. In the evenings, savor the aroma of freshly brewed tea and traditional Persian melodies in a cozy teahouse.\\nEmbark on a desert adventure in Yazd\\nStep into the heart of Iran\\u2019s desert landscape in Yazd, a city renowned for its unique mudbrick architecture. Explore the UNESCO-listed Jameh Mosque, a masterpiece of Islamic art and engineering. Wander through the labyrinthine alleys of the old town, encountering traditional qanats (underground water channels) and charming cafes. Don\\u2019t miss the chance to capture the mesmerising sunset over the Towers of Silence, ancient Zoroastrian burial sites.\\n\\n\\n\\u00a0\\n\\n\\n\\n\\n\\n\\n\\n\\n\\n\\nView this post on Instagram\\n\\n\\n\\n\\n\\n\\n\\n\\n\\n\\n\\n\\n\\n\\n\\n\\n\\n\\n\\n\\n\\n\\n\\u00a0\\nA post shared by #Tourism_IRAN \\u00ae HD pictures (@tourism_iran)\\u00a0\\n\\n\\nExperience the Caspian Sea\\u2019s allure\\nEscape the desert heat and bask on the shores of the Caspian Sea. Enchanting coastal towns like Anzali and Ramsar offer pristine beaches, water sports activities, and delicious seafood. Take a boat ride on the turquoise waters, indulge in fresh Caspian salmon, and witness the breathtaking sunset over the vast expanse of the sea.\\nIran\\u2019s charm lies not just in its sights but also in its people. Embrace the warmth and hospitality of the locals, be open to trying new flavours, and appreciate the rich cultural tapestry. Remember to dress modestly, respecting local customs.\"\n        ],\n        \"semantic_type\": \"\",\n        \"description\": \"\"\n      }\n    },\n    {\n      \"column\": \"label\",\n      \"properties\": {\n        \"dtype\": \"category\",\n        \"num_unique_values\": 1,\n        \"samples\": [\n          \"lifestyle\"\n        ],\n        \"semantic_type\": \"\",\n        \"description\": \"\"\n      }\n    }\n  ]\n}"
            }
          },
          "metadata": {},
          "execution_count": 574
        }
      ]
    },
    {
      "cell_type": "markdown",
      "source": [
        "## **Entertainment**"
      ],
      "metadata": {
        "id": "GdvTqAbIbeA5"
      }
    },
    {
      "cell_type": "code",
      "source": [
        "html = requests.get('https://indianexpress.com/section/entertainment/page/9/')"
      ],
      "metadata": {
        "id": "wX6wuqmZbqHQ"
      },
      "execution_count": null,
      "outputs": []
    },
    {
      "cell_type": "code",
      "source": [
        "bs3 = soup(html.content,'lxml')\n"
      ],
      "metadata": {
        "id": "p8IrSl-nbqHR"
      },
      "execution_count": null,
      "outputs": []
    },
    {
      "cell_type": "code",
      "source": [
        "check = []\n",
        "for news in bs3.findAll('div',{'class':'title'}):\n",
        "  check.append(news.a['title'])"
      ],
      "metadata": {
        "id": "Y-9rCw4ubqHS"
      },
      "execution_count": null,
      "outputs": []
    },
    {
      "cell_type": "code",
      "source": [
        "len(check)"
      ],
      "metadata": {
        "colab": {
          "base_uri": "https://localhost:8080/"
        },
        "outputId": "7f023a13-b82c-4a89-fa0f-24e67ddb115f",
        "id": "a5alRmU3bqHT"
      },
      "execution_count": null,
      "outputs": [
        {
          "output_type": "execute_result",
          "data": {
            "text/plain": [
              "25"
            ]
          },
          "metadata": {},
          "execution_count": 711
        }
      ]
    },
    {
      "cell_type": "code",
      "source": [
        "title.extend(check)"
      ],
      "metadata": {
        "id": "2IL4eGrNbqHU"
      },
      "execution_count": null,
      "outputs": []
    },
    {
      "cell_type": "code",
      "source": [
        "title = []\n",
        "for news in bs3.findAll('div',{'class':'title'}):\n",
        "  title.append(news.a['title'])"
      ],
      "metadata": {
        "id": "t8F-DKvxbqHU"
      },
      "execution_count": null,
      "outputs": []
    },
    {
      "cell_type": "code",
      "source": [
        "len(title)"
      ],
      "metadata": {
        "outputId": "db283000-7b58-45ec-9555-f7975f40c7eb",
        "colab": {
          "base_uri": "https://localhost:8080/"
        },
        "id": "DMdpJs9fbqHU"
      },
      "execution_count": null,
      "outputs": [
        {
          "output_type": "execute_result",
          "data": {
            "text/plain": [
              "225"
            ]
          },
          "metadata": {},
          "execution_count": 719
        }
      ]
    },
    {
      "cell_type": "code",
      "source": [
        "try:\n",
        "  links = []\n",
        "  for news in bs3.findAll('div',{'class':'title'}):\n",
        "          links.append(news.a['href'])\n",
        "except:\n",
        "  pass\n"
      ],
      "metadata": {
        "id": "3esw_YgkbqHV"
      },
      "execution_count": null,
      "outputs": []
    },
    {
      "cell_type": "code",
      "source": [
        "len(links)"
      ],
      "metadata": {
        "outputId": "990b2cd2-b478-4d6e-fe0a-19a9a4db821d",
        "colab": {
          "base_uri": "https://localhost:8080/"
        },
        "id": "TmcuYac-bqHV"
      },
      "execution_count": null,
      "outputs": [
        {
          "output_type": "execute_result",
          "data": {
            "text/plain": [
              "25"
            ]
          },
          "metadata": {},
          "execution_count": 713
        }
      ]
    },
    {
      "cell_type": "code",
      "source": [
        "check1 =[]\n",
        "for link in links:\n",
        "  page = requests.get(link)\n",
        "  bs = soup(page.content)\n",
        "  for news in bs.findAll('div',{'class':'story_details'}):\n",
        "    check1.append(news.text.strip())"
      ],
      "metadata": {
        "id": "ROGS4reRbqHW"
      },
      "execution_count": null,
      "outputs": []
    },
    {
      "cell_type": "code",
      "source": [
        "len(check1)"
      ],
      "metadata": {
        "colab": {
          "base_uri": "https://localhost:8080/"
        },
        "outputId": "717ff61c-12b6-4b16-deba-fc3a3d1a26ee",
        "id": "FRd4bfkXbqHW"
      },
      "execution_count": null,
      "outputs": [
        {
          "output_type": "execute_result",
          "data": {
            "text/plain": [
              "25"
            ]
          },
          "metadata": {},
          "execution_count": 715
        }
      ]
    },
    {
      "cell_type": "code",
      "source": [
        "content.extend(check1)"
      ],
      "metadata": {
        "id": "xLT6IZtybqHX"
      },
      "execution_count": null,
      "outputs": []
    },
    {
      "cell_type": "code",
      "source": [
        "content = []\n",
        "for link in links:\n",
        "  page = requests.get(link)\n",
        "  bs = soup(page.content)\n",
        "  for news in bs.findAll('div',{'class':'story_details'}):\n",
        "    content.append(news.text.strip())"
      ],
      "metadata": {
        "id": "e97ej67qbqHX"
      },
      "execution_count": null,
      "outputs": []
    },
    {
      "cell_type": "code",
      "source": [
        "len(content)"
      ],
      "metadata": {
        "colab": {
          "base_uri": "https://localhost:8080/"
        },
        "outputId": "5f1f38eb-613b-4f22-a81d-1b711c0f78d7",
        "id": "1Bom9PdtbqHX"
      },
      "execution_count": null,
      "outputs": [
        {
          "output_type": "execute_result",
          "data": {
            "text/plain": [
              "225"
            ]
          },
          "metadata": {},
          "execution_count": 717
        }
      ]
    },
    {
      "cell_type": "code",
      "source": [
        "my_dic4 = {'title':title,'content':content}\n",
        "en_df = pd.DataFrame(my_dic4)\n",
        "en_df['label']= 'entertainmaent'"
      ],
      "metadata": {
        "id": "oXPZ6HlmbqHY"
      },
      "execution_count": null,
      "outputs": []
    },
    {
      "cell_type": "code",
      "source": [
        "en_df"
      ],
      "metadata": {
        "outputId": "f5eb786e-89a0-4204-e23e-c853449a1513",
        "colab": {
          "base_uri": "https://localhost:8080/",
          "height": 423
        },
        "id": "I-vwfhW3bqHY"
      },
      "execution_count": null,
      "outputs": [
        {
          "output_type": "execute_result",
          "data": {
            "text/plain": [
              "                                                 title  \\\n",
              "0    Rajkumar Periasamy: ‘Kamal Haasan sir was the ...   \n",
              "1    Boney Kapoor undergoes hair transplant surgery...   \n",
              "2    One song in Rocky Aur Rani cost more than all ...   \n",
              "3    Aamir Khan greets fans as he reaches Mussoorie...   \n",
              "4    Vikrant Massey says he worked for 110 hours no...   \n",
              "..                                                 ...   \n",
              "220  Priyamani says she did Chennai Express dance n...   \n",
              "221  Johnny Lever says he would see murders daily a...   \n",
              "222  Madame Web movie review: Dakota Johnson can’t ...   \n",
              "223  Saba Azad gives a shoutout to Hrithik Roshan’s...   \n",
              "224  Thundu movie review: Biju Menon, Shine Tom Cha...   \n",
              "\n",
              "                                               content           label  \n",
              "0    After the blockbuster success of Vikram, which...  entertainmaent  \n",
              "1    Actor-producer Boney Kapoor recently took a tr...  entertainmaent  \n",
              "2    Karan Johar is so accustomed to working in a c...  entertainmaent  \n",
              "3    Actor Aamir Khan, his ex-wife Kiran Rao and th...  entertainmaent  \n",
              "4    Following the success of 12th Fail, actor Vikr...  entertainmaent  \n",
              "..                                                 ...             ...  \n",
              "220  The popular south Indian actor Priyamani gaine...  entertainmaent  \n",
              "221  Actor Johnny Lever is considered the best come...  entertainmaent  \n",
              "222  “When you take on the responsibility, great po...  entertainmaent  \n",
              "223  The fans of the rom-com genre are in for a del...  entertainmaent  \n",
              "224  Life’s been rough for civil police officer Bab...  entertainmaent  \n",
              "\n",
              "[225 rows x 3 columns]"
            ],
            "text/html": [
              "\n",
              "  <div id=\"df-de25fb14-1899-4df5-8c04-8315ff29ef26\" class=\"colab-df-container\">\n",
              "    <div>\n",
              "<style scoped>\n",
              "    .dataframe tbody tr th:only-of-type {\n",
              "        vertical-align: middle;\n",
              "    }\n",
              "\n",
              "    .dataframe tbody tr th {\n",
              "        vertical-align: top;\n",
              "    }\n",
              "\n",
              "    .dataframe thead th {\n",
              "        text-align: right;\n",
              "    }\n",
              "</style>\n",
              "<table border=\"1\" class=\"dataframe\">\n",
              "  <thead>\n",
              "    <tr style=\"text-align: right;\">\n",
              "      <th></th>\n",
              "      <th>title</th>\n",
              "      <th>content</th>\n",
              "      <th>label</th>\n",
              "    </tr>\n",
              "  </thead>\n",
              "  <tbody>\n",
              "    <tr>\n",
              "      <th>0</th>\n",
              "      <td>Rajkumar Periasamy: ‘Kamal Haasan sir was the ...</td>\n",
              "      <td>After the blockbuster success of Vikram, which...</td>\n",
              "      <td>entertainmaent</td>\n",
              "    </tr>\n",
              "    <tr>\n",
              "      <th>1</th>\n",
              "      <td>Boney Kapoor undergoes hair transplant surgery...</td>\n",
              "      <td>Actor-producer Boney Kapoor recently took a tr...</td>\n",
              "      <td>entertainmaent</td>\n",
              "    </tr>\n",
              "    <tr>\n",
              "      <th>2</th>\n",
              "      <td>One song in Rocky Aur Rani cost more than all ...</td>\n",
              "      <td>Karan Johar is so accustomed to working in a c...</td>\n",
              "      <td>entertainmaent</td>\n",
              "    </tr>\n",
              "    <tr>\n",
              "      <th>3</th>\n",
              "      <td>Aamir Khan greets fans as he reaches Mussoorie...</td>\n",
              "      <td>Actor Aamir Khan, his ex-wife Kiran Rao and th...</td>\n",
              "      <td>entertainmaent</td>\n",
              "    </tr>\n",
              "    <tr>\n",
              "      <th>4</th>\n",
              "      <td>Vikrant Massey says he worked for 110 hours no...</td>\n",
              "      <td>Following the success of 12th Fail, actor Vikr...</td>\n",
              "      <td>entertainmaent</td>\n",
              "    </tr>\n",
              "    <tr>\n",
              "      <th>...</th>\n",
              "      <td>...</td>\n",
              "      <td>...</td>\n",
              "      <td>...</td>\n",
              "    </tr>\n",
              "    <tr>\n",
              "      <th>220</th>\n",
              "      <td>Priyamani says she did Chennai Express dance n...</td>\n",
              "      <td>The popular south Indian actor Priyamani gaine...</td>\n",
              "      <td>entertainmaent</td>\n",
              "    </tr>\n",
              "    <tr>\n",
              "      <th>221</th>\n",
              "      <td>Johnny Lever says he would see murders daily a...</td>\n",
              "      <td>Actor Johnny Lever is considered the best come...</td>\n",
              "      <td>entertainmaent</td>\n",
              "    </tr>\n",
              "    <tr>\n",
              "      <th>222</th>\n",
              "      <td>Madame Web movie review: Dakota Johnson can’t ...</td>\n",
              "      <td>“When you take on the responsibility, great po...</td>\n",
              "      <td>entertainmaent</td>\n",
              "    </tr>\n",
              "    <tr>\n",
              "      <th>223</th>\n",
              "      <td>Saba Azad gives a shoutout to Hrithik Roshan’s...</td>\n",
              "      <td>The fans of the rom-com genre are in for a del...</td>\n",
              "      <td>entertainmaent</td>\n",
              "    </tr>\n",
              "    <tr>\n",
              "      <th>224</th>\n",
              "      <td>Thundu movie review: Biju Menon, Shine Tom Cha...</td>\n",
              "      <td>Life’s been rough for civil police officer Bab...</td>\n",
              "      <td>entertainmaent</td>\n",
              "    </tr>\n",
              "  </tbody>\n",
              "</table>\n",
              "<p>225 rows × 3 columns</p>\n",
              "</div>\n",
              "    <div class=\"colab-df-buttons\">\n",
              "\n",
              "  <div class=\"colab-df-container\">\n",
              "    <button class=\"colab-df-convert\" onclick=\"convertToInteractive('df-de25fb14-1899-4df5-8c04-8315ff29ef26')\"\n",
              "            title=\"Convert this dataframe to an interactive table.\"\n",
              "            style=\"display:none;\">\n",
              "\n",
              "  <svg xmlns=\"http://www.w3.org/2000/svg\" height=\"24px\" viewBox=\"0 -960 960 960\">\n",
              "    <path d=\"M120-120v-720h720v720H120Zm60-500h600v-160H180v160Zm220 220h160v-160H400v160Zm0 220h160v-160H400v160ZM180-400h160v-160H180v160Zm440 0h160v-160H620v160ZM180-180h160v-160H180v160Zm440 0h160v-160H620v160Z\"/>\n",
              "  </svg>\n",
              "    </button>\n",
              "\n",
              "  <style>\n",
              "    .colab-df-container {\n",
              "      display:flex;\n",
              "      gap: 12px;\n",
              "    }\n",
              "\n",
              "    .colab-df-convert {\n",
              "      background-color: #E8F0FE;\n",
              "      border: none;\n",
              "      border-radius: 50%;\n",
              "      cursor: pointer;\n",
              "      display: none;\n",
              "      fill: #1967D2;\n",
              "      height: 32px;\n",
              "      padding: 0 0 0 0;\n",
              "      width: 32px;\n",
              "    }\n",
              "\n",
              "    .colab-df-convert:hover {\n",
              "      background-color: #E2EBFA;\n",
              "      box-shadow: 0px 1px 2px rgba(60, 64, 67, 0.3), 0px 1px 3px 1px rgba(60, 64, 67, 0.15);\n",
              "      fill: #174EA6;\n",
              "    }\n",
              "\n",
              "    .colab-df-buttons div {\n",
              "      margin-bottom: 4px;\n",
              "    }\n",
              "\n",
              "    [theme=dark] .colab-df-convert {\n",
              "      background-color: #3B4455;\n",
              "      fill: #D2E3FC;\n",
              "    }\n",
              "\n",
              "    [theme=dark] .colab-df-convert:hover {\n",
              "      background-color: #434B5C;\n",
              "      box-shadow: 0px 1px 3px 1px rgba(0, 0, 0, 0.15);\n",
              "      filter: drop-shadow(0px 1px 2px rgba(0, 0, 0, 0.3));\n",
              "      fill: #FFFFFF;\n",
              "    }\n",
              "  </style>\n",
              "\n",
              "    <script>\n",
              "      const buttonEl =\n",
              "        document.querySelector('#df-de25fb14-1899-4df5-8c04-8315ff29ef26 button.colab-df-convert');\n",
              "      buttonEl.style.display =\n",
              "        google.colab.kernel.accessAllowed ? 'block' : 'none';\n",
              "\n",
              "      async function convertToInteractive(key) {\n",
              "        const element = document.querySelector('#df-de25fb14-1899-4df5-8c04-8315ff29ef26');\n",
              "        const dataTable =\n",
              "          await google.colab.kernel.invokeFunction('convertToInteractive',\n",
              "                                                    [key], {});\n",
              "        if (!dataTable) return;\n",
              "\n",
              "        const docLinkHtml = 'Like what you see? Visit the ' +\n",
              "          '<a target=\"_blank\" href=https://colab.research.google.com/notebooks/data_table.ipynb>data table notebook</a>'\n",
              "          + ' to learn more about interactive tables.';\n",
              "        element.innerHTML = '';\n",
              "        dataTable['output_type'] = 'display_data';\n",
              "        await google.colab.output.renderOutput(dataTable, element);\n",
              "        const docLink = document.createElement('div');\n",
              "        docLink.innerHTML = docLinkHtml;\n",
              "        element.appendChild(docLink);\n",
              "      }\n",
              "    </script>\n",
              "  </div>\n",
              "\n",
              "\n",
              "<div id=\"df-d2aca668-281d-40f8-86e1-e0c870d8d829\">\n",
              "  <button class=\"colab-df-quickchart\" onclick=\"quickchart('df-d2aca668-281d-40f8-86e1-e0c870d8d829')\"\n",
              "            title=\"Suggest charts\"\n",
              "            style=\"display:none;\">\n",
              "\n",
              "<svg xmlns=\"http://www.w3.org/2000/svg\" height=\"24px\"viewBox=\"0 0 24 24\"\n",
              "     width=\"24px\">\n",
              "    <g>\n",
              "        <path d=\"M19 3H5c-1.1 0-2 .9-2 2v14c0 1.1.9 2 2 2h14c1.1 0 2-.9 2-2V5c0-1.1-.9-2-2-2zM9 17H7v-7h2v7zm4 0h-2V7h2v10zm4 0h-2v-4h2v4z\"/>\n",
              "    </g>\n",
              "</svg>\n",
              "  </button>\n",
              "\n",
              "<style>\n",
              "  .colab-df-quickchart {\n",
              "      --bg-color: #E8F0FE;\n",
              "      --fill-color: #1967D2;\n",
              "      --hover-bg-color: #E2EBFA;\n",
              "      --hover-fill-color: #174EA6;\n",
              "      --disabled-fill-color: #AAA;\n",
              "      --disabled-bg-color: #DDD;\n",
              "  }\n",
              "\n",
              "  [theme=dark] .colab-df-quickchart {\n",
              "      --bg-color: #3B4455;\n",
              "      --fill-color: #D2E3FC;\n",
              "      --hover-bg-color: #434B5C;\n",
              "      --hover-fill-color: #FFFFFF;\n",
              "      --disabled-bg-color: #3B4455;\n",
              "      --disabled-fill-color: #666;\n",
              "  }\n",
              "\n",
              "  .colab-df-quickchart {\n",
              "    background-color: var(--bg-color);\n",
              "    border: none;\n",
              "    border-radius: 50%;\n",
              "    cursor: pointer;\n",
              "    display: none;\n",
              "    fill: var(--fill-color);\n",
              "    height: 32px;\n",
              "    padding: 0;\n",
              "    width: 32px;\n",
              "  }\n",
              "\n",
              "  .colab-df-quickchart:hover {\n",
              "    background-color: var(--hover-bg-color);\n",
              "    box-shadow: 0 1px 2px rgba(60, 64, 67, 0.3), 0 1px 3px 1px rgba(60, 64, 67, 0.15);\n",
              "    fill: var(--button-hover-fill-color);\n",
              "  }\n",
              "\n",
              "  .colab-df-quickchart-complete:disabled,\n",
              "  .colab-df-quickchart-complete:disabled:hover {\n",
              "    background-color: var(--disabled-bg-color);\n",
              "    fill: var(--disabled-fill-color);\n",
              "    box-shadow: none;\n",
              "  }\n",
              "\n",
              "  .colab-df-spinner {\n",
              "    border: 2px solid var(--fill-color);\n",
              "    border-color: transparent;\n",
              "    border-bottom-color: var(--fill-color);\n",
              "    animation:\n",
              "      spin 1s steps(1) infinite;\n",
              "  }\n",
              "\n",
              "  @keyframes spin {\n",
              "    0% {\n",
              "      border-color: transparent;\n",
              "      border-bottom-color: var(--fill-color);\n",
              "      border-left-color: var(--fill-color);\n",
              "    }\n",
              "    20% {\n",
              "      border-color: transparent;\n",
              "      border-left-color: var(--fill-color);\n",
              "      border-top-color: var(--fill-color);\n",
              "    }\n",
              "    30% {\n",
              "      border-color: transparent;\n",
              "      border-left-color: var(--fill-color);\n",
              "      border-top-color: var(--fill-color);\n",
              "      border-right-color: var(--fill-color);\n",
              "    }\n",
              "    40% {\n",
              "      border-color: transparent;\n",
              "      border-right-color: var(--fill-color);\n",
              "      border-top-color: var(--fill-color);\n",
              "    }\n",
              "    60% {\n",
              "      border-color: transparent;\n",
              "      border-right-color: var(--fill-color);\n",
              "    }\n",
              "    80% {\n",
              "      border-color: transparent;\n",
              "      border-right-color: var(--fill-color);\n",
              "      border-bottom-color: var(--fill-color);\n",
              "    }\n",
              "    90% {\n",
              "      border-color: transparent;\n",
              "      border-bottom-color: var(--fill-color);\n",
              "    }\n",
              "  }\n",
              "</style>\n",
              "\n",
              "  <script>\n",
              "    async function quickchart(key) {\n",
              "      const quickchartButtonEl =\n",
              "        document.querySelector('#' + key + ' button');\n",
              "      quickchartButtonEl.disabled = true;  // To prevent multiple clicks.\n",
              "      quickchartButtonEl.classList.add('colab-df-spinner');\n",
              "      try {\n",
              "        const charts = await google.colab.kernel.invokeFunction(\n",
              "            'suggestCharts', [key], {});\n",
              "      } catch (error) {\n",
              "        console.error('Error during call to suggestCharts:', error);\n",
              "      }\n",
              "      quickchartButtonEl.classList.remove('colab-df-spinner');\n",
              "      quickchartButtonEl.classList.add('colab-df-quickchart-complete');\n",
              "    }\n",
              "    (() => {\n",
              "      let quickchartButtonEl =\n",
              "        document.querySelector('#df-d2aca668-281d-40f8-86e1-e0c870d8d829 button');\n",
              "      quickchartButtonEl.style.display =\n",
              "        google.colab.kernel.accessAllowed ? 'block' : 'none';\n",
              "    })();\n",
              "  </script>\n",
              "</div>\n",
              "\n",
              "  <div id=\"id_04de54ec-fedc-4e6e-aff1-c23adb9ac6f6\">\n",
              "    <style>\n",
              "      .colab-df-generate {\n",
              "        background-color: #E8F0FE;\n",
              "        border: none;\n",
              "        border-radius: 50%;\n",
              "        cursor: pointer;\n",
              "        display: none;\n",
              "        fill: #1967D2;\n",
              "        height: 32px;\n",
              "        padding: 0 0 0 0;\n",
              "        width: 32px;\n",
              "      }\n",
              "\n",
              "      .colab-df-generate:hover {\n",
              "        background-color: #E2EBFA;\n",
              "        box-shadow: 0px 1px 2px rgba(60, 64, 67, 0.3), 0px 1px 3px 1px rgba(60, 64, 67, 0.15);\n",
              "        fill: #174EA6;\n",
              "      }\n",
              "\n",
              "      [theme=dark] .colab-df-generate {\n",
              "        background-color: #3B4455;\n",
              "        fill: #D2E3FC;\n",
              "      }\n",
              "\n",
              "      [theme=dark] .colab-df-generate:hover {\n",
              "        background-color: #434B5C;\n",
              "        box-shadow: 0px 1px 3px 1px rgba(0, 0, 0, 0.15);\n",
              "        filter: drop-shadow(0px 1px 2px rgba(0, 0, 0, 0.3));\n",
              "        fill: #FFFFFF;\n",
              "      }\n",
              "    </style>\n",
              "    <button class=\"colab-df-generate\" onclick=\"generateWithVariable('en_df')\"\n",
              "            title=\"Generate code using this dataframe.\"\n",
              "            style=\"display:none;\">\n",
              "\n",
              "  <svg xmlns=\"http://www.w3.org/2000/svg\" height=\"24px\"viewBox=\"0 0 24 24\"\n",
              "       width=\"24px\">\n",
              "    <path d=\"M7,19H8.4L18.45,9,17,7.55,7,17.6ZM5,21V16.75L18.45,3.32a2,2,0,0,1,2.83,0l1.4,1.43a1.91,1.91,0,0,1,.58,1.4,1.91,1.91,0,0,1-.58,1.4L9.25,21ZM18.45,9,17,7.55Zm-12,3A5.31,5.31,0,0,0,4.9,8.1,5.31,5.31,0,0,0,1,6.5,5.31,5.31,0,0,0,4.9,4.9,5.31,5.31,0,0,0,6.5,1,5.31,5.31,0,0,0,8.1,4.9,5.31,5.31,0,0,0,12,6.5,5.46,5.46,0,0,0,6.5,12Z\"/>\n",
              "  </svg>\n",
              "    </button>\n",
              "    <script>\n",
              "      (() => {\n",
              "      const buttonEl =\n",
              "        document.querySelector('#id_04de54ec-fedc-4e6e-aff1-c23adb9ac6f6 button.colab-df-generate');\n",
              "      buttonEl.style.display =\n",
              "        google.colab.kernel.accessAllowed ? 'block' : 'none';\n",
              "\n",
              "      buttonEl.onclick = () => {\n",
              "        google.colab.notebook.generateWithVariable('en_df');\n",
              "      }\n",
              "      })();\n",
              "    </script>\n",
              "  </div>\n",
              "\n",
              "    </div>\n",
              "  </div>\n"
            ],
            "application/vnd.google.colaboratory.intrinsic+json": {
              "type": "dataframe",
              "variable_name": "en_df",
              "summary": "{\n  \"name\": \"en_df\",\n  \"rows\": 225,\n  \"fields\": [\n    {\n      \"column\": \"title\",\n      \"properties\": {\n        \"dtype\": \"string\",\n        \"num_unique_values\": 225,\n        \"samples\": [\n          \"\\u2018Shah Rukh Khan has been a one-woman man all his life\\u2019: Vivek Vaswani dismisses rumours about Karan Johar, Priyanka Chopra\",\n          \"Anupam Mittal claims he starved for three days because he had no money: \\u2018Experiencing hunger teaches you a lot\\u2019\",\n          \"Shark Tank India 3: Despite catching Aman Gupta\\u2019s attention, car-washing company fails to crack a deal; Anupam Mittal asks them to revamp their business model\"\n        ],\n        \"semantic_type\": \"\",\n        \"description\": \"\"\n      }\n    },\n    {\n      \"column\": \"content\",\n      \"properties\": {\n        \"dtype\": \"string\",\n        \"num_unique_values\": 225,\n        \"samples\": [\n          \"Shah Rukh Khan has maintained a near-squeaky clean reputation all his life but there have been rumours in the past suggesting that he has had relationships with filmmaker Karan Johar and actor Priyanka Chopra. However, in a recent interview, actor-producer Vivek Vaswani, who closely worked with SRK during the early years of his career, said that there is no truth to these rumours as Shah Rukh is a \\u201cone-woman man\\u201d and is devoted to wife Gauri Khan.\\nIn a recent chat with YouTuber Siddharth Kannan, Vivek was asked if he was \\u201cever in a relationship with Shah Rukh?\\u201d To this, Vivek immediately said, \\u201cYou mean sexual relationship? No. He\\u2019s not that sort. I don\\u2019t know where the rumours came from. We were living in the same house, my parents were there, there was tension, stress about career, he had to get married to Gauri, where would a relationship be in all of this? There was a relationship of friendship.\\u201d\\nHe added, \\u201cThere was no relationship of sex. I would not even be able to think but\\u2026 Unfortunately, for Shah Rukh because of his relationship with me, because he lived in my house, because of his relationship with Karan, a lot of people have tried to\\u2026 as you become bigger in stature as a star, as a success, people say all sorts of things. It\\u2019s not true.\\u201dAdvertisement\\nALSO READ | Emraan Hashmi says Bollywood suffering from \\u2018wild perception\\u2019 game, takes dig at those who criticise it: \\u2018They say it\\u2019s full of drugs, parties\\u2026\\u2019\\nVivek shared that Shah Rukh has been a \\u201cone-woman man all his life.\\u201d He said, \\u201cIn fact, from the time I have known him, he has been a one-woman man all his life. How many flings have you heard of? We have had one rumour of Priyanka Chopra, that also its a rumour but what else have we heard of Shah Rukh? Nothing. He\\u2019s not that kind of a person.\\u201d\\nShah Rukh Khan and Gauri Khan have been married since 1991. They have three children \\u2013 sons Aryan and AbRam and daughter Suhana.\\nClick for more updates and latest Bollywood news along with Entertainment updates. Also get latest news and top headlines from India and around the world at The Indian Express.\",\n          \"Anupam Mittal is a household name now, thanks to the three years that he has spent hosting the popular reality television series Shark Tank India. Companies offer him equity for nothing in return now, but there was a time when he struggled like everybody else. Appearing on the Barbershop podcast, Anupam recalled how he got his start as an entrepreneur, and how he went from living in a cramped apartment in Mumbai to becoming a multi-millionaire in his 20s.\\nAnupam said that his father made his fortune in the textiles business, but there was a time when they weren\\u2019t very well off. \\u201cWe wouldn\\u2019t realise it as kids, but 20 of us were living in a 1000 square foot house at the time. People were sleeping on the dining table, under the dining table. But as kids, you don\\u2019t think of that. You enjoy having so many kids around,\\u201d he said.\\nAlso read \\u2013\\u00a0Shark Tank India 3: Aman Gupta blasts pitchers for \\u2018wasting everybody\\u2019s time\\u2019 after they reject his offer, says he\\u2019ll \\u2018stop trusting\\u2019 future entrepreneursAdvertisement\\nBut in time, his father prospered, and Anupam went to the US for studies. He couldn\\u2019t find a job there though, and decided not to tell his parents because they\\u2019d command him to return to India. \\u201cNow the situation was such that I had no money, and if I asked them for money they say, \\u2018Where\\u2019s your salary?\\u2019 I had no money. It was the first time I experienced hunger. This is something everybody should do in live once, because experiencing hunger teaches you a lot. There was a time when I didn\\u2019t eat for two-three days, because I couldn\\u2019t eat. How long could friends help? They would\\u2019ve helped, but you also feel bad after a while\\u2026 Credit cards are maxed out, everything is finished. It wasn\\u2019t like I was out on the streets, but I did experience some level of lack of resources,\\u201d he said.\\nBut things turned around for Anupam, and soon, he founds himself living the kind of life he\\u2019d only seen in the movies. \\u201cI became a multi-millionaire in my early 20s. It was crazy, I\\u2019d never imagined it. I\\u2019d ordered a sports car, we used to party in stadiums, our corporate parties would be on cruise ships. It was next level,\\u201d he said. Anupam made his name as an entrepreneur after leaving his job in the US, and experienced a new level of fame after joining Shark Tank India as a judge. He now puts himself through voluntary fasts for 24 hours.\",\n          \"Even after almost a month of its premiere, business reality show Shark Tank India Season 3 continues to grip the interest of viewers. So far, varied pitches have come in and the \\u2018sharks\\u2019 have even made some amazing investments, but one such pitcher recently failed to seal the deal. Despite impressing some \\u2018sharks\\u2019, especially Aman Gupta, pitchers of Hoora, a car washing app, had to return without an investment.\\nInitially, Aman was able to relate to the Nagpur-based company\\u2019s work pattern, and what also impressed him was how the founders helped partners make a double income through this platform. However, the business idea did not seem very scalable or profitable to any of the \\u2018sharks\\u2019. The first one to back out from the deal was Anupam Mittal, who advised the pitchers to revamp their business. He asked them to focus more on clean energy and not on the services they currently offer as this stream of business was quite commoditized.\\n\\nWhile Namita Thapar pointed out that the pitchers had made their business very complex, Vineeta Singh highlighted scalability as a concern as she backed out. Amit Jain (CEO of CarDekho) shared he was very keen to invest, but did not understand the pitch from a business mindset.\\nAlso Read | Anupam Mittal claims he starved for three days because he had no money: \\u2018Experiencing hunger teaches you a lot\\u2019\\n\\nAman Gupta also said that since their market and model were not defined properly, he too wasn\\u2019t keen on taking a risk. This season, Aman has had some very interesting moments with the pitchers and he also invested in some very promising start-ups.\\nShark Tank 3 is streaming on SonyLIV.\"\n        ],\n        \"semantic_type\": \"\",\n        \"description\": \"\"\n      }\n    },\n    {\n      \"column\": \"label\",\n      \"properties\": {\n        \"dtype\": \"category\",\n        \"num_unique_values\": 1,\n        \"samples\": [\n          \"entertainmaent\"\n        ],\n        \"semantic_type\": \"\",\n        \"description\": \"\"\n      }\n    }\n  ]\n}"
            }
          },
          "metadata": {},
          "execution_count": 721
        }
      ]
    },
    {
      "cell_type": "code",
      "source": [
        "final_df = pd.concat([df,p_df,sp_df,en_df],axis = 0,ignore_index=True)\n",
        "final_df.info()"
      ],
      "metadata": {
        "colab": {
          "base_uri": "https://localhost:8080/"
        },
        "id": "z9or4gg5p5h9",
        "outputId": "aa96fdd4-cbaf-49a7-88ea-55f9c17a877b"
      },
      "execution_count": null,
      "outputs": [
        {
          "output_type": "stream",
          "name": "stdout",
          "text": [
            "<class 'pandas.core.frame.DataFrame'>\n",
            "RangeIndex: 900 entries, 0 to 899\n",
            "Data columns (total 3 columns):\n",
            " #   Column   Non-Null Count  Dtype \n",
            "---  ------   --------------  ----- \n",
            " 0   title    900 non-null    object\n",
            " 1   content  900 non-null    object\n",
            " 2   label    900 non-null    object\n",
            "dtypes: object(3)\n",
            "memory usage: 21.2+ KB\n"
          ]
        }
      ]
    },
    {
      "cell_type": "code",
      "source": [
        "final_df.to_csv('nlp_data.csv',index =False)"
      ],
      "metadata": {
        "id": "J9W6kdyyqzeG"
      },
      "execution_count": null,
      "outputs": []
    }
  ]
}